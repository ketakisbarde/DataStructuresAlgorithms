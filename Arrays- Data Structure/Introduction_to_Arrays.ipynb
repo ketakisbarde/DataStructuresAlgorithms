{
 "cells": [
  {
   "cell_type": "markdown",
   "metadata": {},
   "source": [
    "### Arrays are one of the most commonly used data structures\n",
    "- The elements of an array are stored in contiguous memory locations\n",
    "- Arrays are of two types : Static and Dynamic\n",
    "- Static arrays have fixed, pre-defined amount of memory that they can use, whereas in dynamic arrays this is flexible\n",
    "- In Python we only have dynamic arrays\n",
    "\n",
    "#### Some basic operations and their complexities are given below :\n",
    "\n",
    "1. Look-up/Accses - O(1)\n",
    "2. Push/Pop - O(1)*\n",
    "3. Insert - O(n)\n",
    "4. Delete - O(n)"
   ]
  },
  {
   "cell_type": "code",
   "execution_count": 30,
   "metadata": {},
   "outputs": [
    {
     "name": "stdout",
     "output_type": "stream",
     "text": [
      "1st element is :  1\n",
      "Sixth element is : 15\n",
      "\n",
      "after push:\n",
      "[1, 25, 40, 32, 27, 15, 70]\n",
      "\n",
      "after pop\n",
      "[1, 25, 40, 32, 27, 15]\n",
      "\n",
      "after insert:\n",
      " [1, 10, 25, 40, 32, 27, 15]\n",
      "\n",
      "after arr.pop(index):\n",
      " [1, 10, 40, 32, 27, 15]\n",
      "\n",
      "after arr.remove(element):\n",
      " [1, 10, 40, 32, 15]\n",
      "\n",
      "after del arr[::]:\n",
      " [40, 32, 15]\n"
     ]
    }
   ],
   "source": [
    "#Creating an array.\n",
    "arr = [1, 25, 40, 32, 27, 15]\n",
    "\n",
    "#Lookup/Access : We need what index we need to access, then lookup cost is const time O(1)\n",
    "first = arr[0]\n",
    "sixth = arr[5]\n",
    "\n",
    "print(\"1st element is : \", first)\n",
    "print(\"Sixth element is :\", sixth)\n",
    "\n",
    "#Push/Pop O(1)*\n",
    "\"\"\"In special cases, since python has dynamic arrays only, append/push operation requires to \n",
    "copy array to fresh memory location costing O(n). So when an element is to appended and the array is filled, the entire array\n",
    "has to be copied to a new location\"\"\"\n",
    "#Therefore, some individual operations may reuire O(n) time or greater, but when averaged over a large number of operations,\n",
    "#The complexity can be safely considered to be O(1)\n",
    "\n",
    "print(\"\\nafter push:\")\n",
    "arr.append(70)\n",
    "print(arr)\n",
    "\n",
    "print(\"\\nafter pop\")\n",
    "arr.pop()\n",
    "print(arr)\n",
    "\n",
    "#Insert Operation : accepts index pos and value to insert in an array in O(n) time as shifting of index is required\n",
    "#The elements to the right of the array have to be updated with the correct index as they all have shifted by one place\n",
    "arr.insert(1, 10)\n",
    "print(\"\\nafter insert:\\n\", arr)\n",
    "\n",
    "#Delete Operation : accepts index pos to be deleted and required O(n) time as shifting of index is required one space left\n",
    "# 3 ways\n",
    "\n",
    "arr.pop(2)\n",
    "print(\"\\nafter arr.pop(index):\\n\", arr)\n",
    "\n",
    "arr.remove(27) # removes first occurence of 27 in O(n) with shift\n",
    "print(\"\\nafter arr.remove(element):\\n\", arr)\n",
    "\n",
    "del arr[0:2] #deletes elements from 0 to 2 indices\n",
    "print(\"\\nafter del arr[::]:\\n\", arr)"
   ]
  },
  {
   "cell_type": "code",
   "execution_count": null,
   "metadata": {},
   "outputs": [],
   "source": []
  }
 ],
 "metadata": {
  "kernelspec": {
   "display_name": "Python 3",
   "language": "python",
   "name": "python3"
  },
  "language_info": {
   "codemirror_mode": {
    "name": "ipython",
    "version": 3
   },
   "file_extension": ".py",
   "mimetype": "text/x-python",
   "name": "python",
   "nbconvert_exporter": "python",
   "pygments_lexer": "ipython3",
   "version": "3.8.5"
  }
 },
 "nbformat": 4,
 "nbformat_minor": 4
}
