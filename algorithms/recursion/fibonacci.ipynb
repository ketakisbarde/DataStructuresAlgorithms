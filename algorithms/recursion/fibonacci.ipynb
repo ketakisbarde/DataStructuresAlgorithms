{
 "cells": [
  {
   "cell_type": "code",
   "execution_count": 21,
   "metadata": {},
   "outputs": [],
   "source": [
    "#Given a number, we have to return the number at that index of the fibonacci sequence.\n",
    "#Fibonacci Sequence - 0 1 1 2 3 5 8 13 21 34 55 89 144 . . . .\n",
    "#For example, fibonacci(5) should return 5 as the 5th index (staring from 0) of the fibonacci sequence is the number 5\n",
    "#Again , we will do both the iterative and recursive solutions \n",
    "\n",
    "def fibo_recursive(n): \n",
    "    if( n < 2):\n",
    "        return n #because return 0 if fibo(0) and return 1 if fibo(1) is called. else for fibo(2), we need to compute\n",
    "    else:\n",
    "        return fibo_recursive(n-1) + fibo_recursive(n-2) #return sum of prev two elements "
   ]
  },
  {
   "cell_type": "code",
   "execution_count": 23,
   "metadata": {},
   "outputs": [
    {
     "data": {
      "text/plain": [
       "21"
      ]
     },
     "execution_count": 23,
     "metadata": {},
     "output_type": "execute_result"
    }
   ],
   "source": [
    "fibo_recursive(8)"
   ]
  },
  {
   "cell_type": "code",
   "execution_count": 30,
   "metadata": {},
   "outputs": [],
   "source": [
    "def fibo_iterative(n):\n",
    "    arr = [0, 1] #initialize array with first 2 elements as those are basis\n",
    "    for i in range(2, n+1):\n",
    "        '''if always push to the array the sum of prev two elements, so if n ==2, arr will append (arr[2-1] + arr[2-2])\n",
    "        which is arr[1] + arr[0] = 1+0 = 1'''\n",
    "        arr.append( arr[i-1] + arr[i-2])\n",
    "    return arr[n] #we wana return the nth position element "
   ]
  },
  {
   "cell_type": "code",
   "execution_count": 34,
   "metadata": {},
   "outputs": [
    {
     "data": {
      "text/plain": [
       "0"
      ]
     },
     "execution_count": 34,
     "metadata": {},
     "output_type": "execute_result"
    }
   ],
   "source": [
    "fibo_iterative(0)"
   ]
  },
  {
   "cell_type": "code",
   "execution_count": 35,
   "metadata": {},
   "outputs": [
    {
     "data": {
      "text/plain": [
       "1"
      ]
     },
     "execution_count": 35,
     "metadata": {},
     "output_type": "execute_result"
    }
   ],
   "source": [
    "fibo_iterative(2)"
   ]
  },
  {
   "cell_type": "code",
   "execution_count": 36,
   "metadata": {},
   "outputs": [
    {
     "data": {
      "text/plain": [
       "21"
      ]
     },
     "execution_count": 36,
     "metadata": {},
     "output_type": "execute_result"
    }
   ],
   "source": [
    "fibo_iterative(8)"
   ]
  },
  {
   "cell_type": "code",
   "execution_count": 29,
   "metadata": {},
   "outputs": [],
   "source": [
    "'''You can do this another way as well. I like the above method'''\n",
    "def iterative_fibonacci(index):\n",
    "    first_number = 0\n",
    "    second_number = 1\n",
    "    if index == 0:\n",
    "        return first_number\n",
    "    if index == 1:\n",
    "        return second_number \n",
    "    for i in range(2,index +1):\n",
    "        third_number = first_number + second_number\n",
    "        first_number = second_number\n",
    "        second_number = third_number\n",
    "    return third_number"
   ]
  },
  {
   "cell_type": "code",
   "execution_count": 37,
   "metadata": {},
   "outputs": [
    {
     "data": {
      "text/plain": [
       "21"
      ]
     },
     "execution_count": 37,
     "metadata": {},
     "output_type": "execute_result"
    }
   ],
   "source": [
    "iterative_fibonacci(8)"
   ]
  },
  {
   "cell_type": "code",
   "execution_count": null,
   "metadata": {},
   "outputs": [],
   "source": []
  }
 ],
 "metadata": {
  "kernelspec": {
   "display_name": "Python 3",
   "language": "python",
   "name": "python3"
  },
  "language_info": {
   "codemirror_mode": {
    "name": "ipython",
    "version": 3
   },
   "file_extension": ".py",
   "mimetype": "text/x-python",
   "name": "python",
   "nbconvert_exporter": "python",
   "pygments_lexer": "ipython3",
   "version": "3.8.5"
  }
 },
 "nbformat": 4,
 "nbformat_minor": 4
}
