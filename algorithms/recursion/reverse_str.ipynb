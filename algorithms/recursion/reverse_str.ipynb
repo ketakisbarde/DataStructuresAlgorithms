{
 "cells": [
  {
   "cell_type": "code",
   "execution_count": 3,
   "metadata": {},
   "outputs": [
    {
     "name": "stdout",
     "output_type": "stream",
     "text": [
      "yretsaM oT oreZ\n",
      "yretsaM oT oreZ\n",
      "Zero To Mastery\n",
      "ero To Mastery\n",
      "ro To Mastery\n",
      "o To Mastery\n",
      " To Mastery\n",
      "To Mastery\n",
      "o Mastery\n",
      " Mastery\n",
      "Mastery\n",
      "astery\n",
      "stery\n",
      "tery\n",
      "ery\n",
      "ry\n",
      "y\n",
      "\n",
      "yretsaM oT oreZ\n"
     ]
    },
    {
     "data": {
      "text/plain": [
       "'\\nZero To Mastery\\nero To Mastery\\nro To Mastery\\no To Mastery\\n To Mastery\\nTo Mastery\\no Mastery\\n Mastery\\nMastery\\nastery\\nstery\\ntery\\nery\\nry\\ny\\nyretsaM oT oreZ\\n'"
      ]
     },
     "execution_count": 3,
     "metadata": {},
     "output_type": "execute_result"
    }
   ],
   "source": [
    "#Given a string , we need to reverse it using recursion (and iteration)\n",
    "#For example, input = \"Zero To Mastery\", output = \"yretsaM oT oreZ\"\n",
    "\n",
    "'''Here we append the string backwards into the original string itself and\n",
    "then slice it to contain only the 2nd half,i.e.,the reversed part.\n",
    "Time complexity = O(n). Space complexity = O(n)'''\n",
    "\n",
    "def second_iterative_reverse(string):\n",
    "    original_length = len(string)\n",
    "    for i in range(original_length):\n",
    "        string = string + string[original_length - i - 1]\n",
    "    string = string[original_length:]\n",
    "    return string\n",
    "\n",
    "print(second_iterative_reverse(\"Zero To Mastery\"))\n",
    "#yretsaM oT oreZ\n",
    "\n",
    "    \n",
    "def iterative_reverse(string): #Here we use a second string to store the reversed version. Time and Space complexity = O(n)\n",
    "    reversed_string = ''\n",
    "    for i in range(len(string)):\n",
    "        reversed_string = reversed_string + string[len(string)-i-1]\n",
    "    return reversed_string\n",
    "\n",
    "print(iterative_reverse(\"Zero To Mastery\"))\n",
    "\n",
    "\n",
    "def recursive_reverse(string):\n",
    "    print(string)\n",
    "    if len(string) == 0:\n",
    "        return string\n",
    "    else:\n",
    "        return recursive_reverse(string[1:]) + string[0]\n",
    "\n",
    "print(recursive_reverse(\"Zero To Mastery\"))\n",
    "'''\n",
    "Zero To Mastery\n",
    "ero To Mastery\n",
    "ro To Mastery\n",
    "o To Mastery\n",
    " To Mastery\n",
    "To Mastery\n",
    "o Mastery\n",
    " Mastery\n",
    "Mastery\n",
    "astery\n",
    "stery\n",
    "tery\n",
    "ery\n",
    "ry\n",
    "y\n",
    "yretsaM oT oreZ\n",
    "'''\n"
   ]
  },
  {
   "cell_type": "code",
   "execution_count": null,
   "metadata": {},
   "outputs": [],
   "source": []
  }
 ],
 "metadata": {
  "kernelspec": {
   "display_name": "Python 3",
   "language": "python",
   "name": "python3"
  },
  "language_info": {
   "codemirror_mode": {
    "name": "ipython",
    "version": 3
   },
   "file_extension": ".py",
   "mimetype": "text/x-python",
   "name": "python",
   "nbconvert_exporter": "python",
   "pygments_lexer": "ipython3",
   "version": "3.8.5"
  }
 },
 "nbformat": 4,
 "nbformat_minor": 4
}
