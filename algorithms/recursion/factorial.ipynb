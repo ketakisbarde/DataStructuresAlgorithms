{
 "cells": [
  {
   "cell_type": "code",
   "execution_count": 1,
   "metadata": {},
   "outputs": [],
   "source": [
    "def factorial_iterative(num):\n",
    "    # 5! = 5*4*3*2*1 = 120\n",
    "    fact = 1\n",
    "    for i in range(1, num+1):\n",
    "        fact = fact * i\n",
    "        \n",
    "    return fact"
   ]
  },
  {
   "cell_type": "code",
   "execution_count": 2,
   "metadata": {},
   "outputs": [
    {
     "name": "stdout",
     "output_type": "stream",
     "text": [
      "120\n"
     ]
    }
   ],
   "source": [
    "ans = factorial_iterative(5)\n",
    "print(ans)"
   ]
  },
  {
   "cell_type": "code",
   "execution_count": 6,
   "metadata": {},
   "outputs": [
    {
     "data": {
      "text/plain": [
       "'\\n5 == 1, no, return 5 * fact(4)\\n4 == 1, no, return 4 * fact(3)\\n3 == 1, no, return 3 * fact(2)\\n2 == 1, no, return 2 * fact(1) \\n1 == 1, YES!, Returns 1 and goes above (in short, stack element(last call) is popped with return value 1 in base case)\\n\\n'"
      ]
     },
     "execution_count": 6,
     "metadata": {},
     "output_type": "execute_result"
    }
   ],
   "source": [
    "def factorial_recursive(num):\n",
    "    if(num <= 1):\n",
    "        return 1\n",
    "    else:\n",
    "        return num * factorial_recursive(num - 1 )\n",
    "    \n",
    "'''\n",
    "5 == 1, no, return 5 * fact(4)\n",
    "4 == 1, no, return 4 * fact(3)\n",
    "3 == 1, no, return 3 * fact(2)\n",
    "2 == 1, no, return 2 * fact(1) \n",
    "1 == 1, YES!, Returns 1 and goes above (in short, stack element(last call) is popped with return value 1 in base case)\n",
    "\n",
    "'''    "
   ]
  },
  {
   "cell_type": "code",
   "execution_count": 7,
   "metadata": {},
   "outputs": [
    {
     "name": "stdout",
     "output_type": "stream",
     "text": [
      "120\n"
     ]
    }
   ],
   "source": [
    "ans2 = factorial_recursive(5)\n",
    "print(ans2)"
   ]
  },
  {
   "cell_type": "code",
   "execution_count": 9,
   "metadata": {},
   "outputs": [
    {
     "name": "stdout",
     "output_type": "stream",
     "text": [
      "1\n",
      "120\n",
      "30414093201713378043612608166064768844377641568960512000000000000\n"
     ]
    }
   ],
   "source": [
    "print(factorial_recursive(0))\n",
    "#1\n",
    "print(factorial_recursive(5))\n",
    "#120\n",
    "print(factorial_recursive(50))\n",
    "#30414093201713378043612608166064768844377641568960512000000000000\n",
    "#print(factorial_recursive(1000))\n",
    "#RecursionError: maximum recursion depth exceeded in comparison"
   ]
  },
  {
   "cell_type": "code",
   "execution_count": null,
   "metadata": {},
   "outputs": [],
   "source": []
  },
  {
   "cell_type": "code",
   "execution_count": null,
   "metadata": {},
   "outputs": [],
   "source": []
  }
 ],
 "metadata": {
  "kernelspec": {
   "display_name": "Python 3",
   "language": "python",
   "name": "python3"
  },
  "language_info": {
   "codemirror_mode": {
    "name": "ipython",
    "version": 3
   },
   "file_extension": ".py",
   "mimetype": "text/x-python",
   "name": "python",
   "nbconvert_exporter": "python",
   "pygments_lexer": "ipython3",
   "version": "3.8.5"
  }
 },
 "nbformat": 4,
 "nbformat_minor": 4
}
