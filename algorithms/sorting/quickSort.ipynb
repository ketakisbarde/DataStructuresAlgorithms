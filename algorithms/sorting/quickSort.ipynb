{
 "cells": [
  {
   "cell_type": "code",
   "execution_count": 1,
   "metadata": {},
   "outputs": [
    {
     "name": "stdout",
     "output_type": "stream",
     "text": [
      "[0, 9, 3, 10, 45, 2, 5]\n",
      "0\n",
      "[0, 3, 2, 5, 45, 9, 10]\n",
      "3\n",
      "[0, 2, 3, 5, 45, 9, 10]\n",
      "1\n",
      "[0, 2, 3, 5, 9, 10, 45]\n",
      "5\n",
      "[0, 2, 3, 5, 9, 10, 45]\n",
      "Number of comparisons = 14\n"
     ]
    }
   ],
   "source": [
    "#Quick Sort is another sorting algorithm which follows divide and conquer approach.\n",
    "#It requires to chose a pivot, then place all elements smaller than the pivot on the left of the pivot and all elements larger on the right\n",
    "#Then the array is partitioned in the pivot position and the left and right arrays followthe same procedure until the base case is reached.\n",
    "#After each pass the pivot element occupies its correct position in the array.\n",
    "#Time Complexity in Best and Average cases is O(nlog N) whereas in worst case it jumps up to O(n^2). Space complexity is O(log n)\n",
    "\n",
    "#In this implementation, we will take the last element as pivot.\n",
    "count = 0\n",
    "\n",
    "def partition(array, left, right):\n",
    "    smaller_index = left - 1\n",
    "    pivot = array[right]\n",
    "    for i in range(left, right):\n",
    "        global count\n",
    "        count += 1\n",
    "        if array[i] < pivot:\n",
    "            smaller_index += 1\n",
    "            array[smaller_index], array[i] = array[i], array[smaller_index]\n",
    "    array[smaller_index+1], array[right] = array[right], array[smaller_index+1]\n",
    "    print(array)\n",
    "    return (smaller_index+1)\n",
    "\n",
    "def quick_sort(array, left, right):\n",
    "    if left < right:\n",
    "        partitioning_index = partition(array, left, right)\n",
    "        print(partitioning_index)\n",
    "        quick_sort(array,left,partitioning_index-1)\n",
    "        quick_sort(array,partitioning_index+1,right)\n",
    "\n",
    "array = [5,9,3,10,45,2,0]\n",
    "quick_sort(array, 0, (len(array)-1))\n",
    "print(array)\n",
    "print(f'Number of comparisons = {count}')"
   ]
  },
  {
   "cell_type": "code",
   "execution_count": null,
   "metadata": {},
   "outputs": [],
   "source": []
  }
 ],
 "metadata": {
  "kernelspec": {
   "display_name": "Python 3",
   "language": "python",
   "name": "python3"
  },
  "language_info": {
   "codemirror_mode": {
    "name": "ipython",
    "version": 3
   },
   "file_extension": ".py",
   "mimetype": "text/x-python",
   "name": "python",
   "nbconvert_exporter": "python",
   "pygments_lexer": "ipython3",
   "version": "3.8.5"
  }
 },
 "nbformat": 4,
 "nbformat_minor": 4
}
