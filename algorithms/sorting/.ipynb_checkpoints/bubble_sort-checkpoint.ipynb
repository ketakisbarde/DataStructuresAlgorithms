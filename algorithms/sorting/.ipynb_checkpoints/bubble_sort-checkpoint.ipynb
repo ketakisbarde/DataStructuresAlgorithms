{
 "cells": [
  {
   "cell_type": "markdown",
   "metadata": {},
   "source": [
    "# Bubble Sort :\n",
    "- In Bubble Sort, the largest value is bubbled up in every pass.\n",
    "- Every two adjacent items are compared and they are swapped if they are in the wrong order.\n",
    "- This way, after every pass, the largest element reaches to the end of the array.\n",
    "- Time complexity of Bubble Sort in <u> Worst and Average Case </u>  is <b> O(n^2) </b> and in <u> best case </u>, its <b> O(n) </b>"
   ]
  },
  {
   "cell_type": "code",
   "execution_count": 49,
   "metadata": {},
   "outputs": [],
   "source": [
    "def bubble_sort(a):\n",
    "    count = 0\n",
    "    for i in range(len(a)):\n",
    "        # We want the last pair of adjacent elements to be (n-2, n-1)\n",
    "        print(a)\n",
    "        for j in range(len(a) - 1 ):\n",
    "            count +=1 \n",
    "            if(a[j] > a[j+1]):\n",
    "                t = a[j]\n",
    "                a[j] = a[j+1]\n",
    "                a[j+1] = t\n",
    "    return (f'{a} \\nNumber of comparisons = {count}')       "
   ]
  },
  {
   "cell_type": "code",
   "execution_count": 50,
   "metadata": {},
   "outputs": [
    {
     "name": "stdout",
     "output_type": "stream",
     "text": [
      "[3, 5, 7, 1, 8]\n",
      "[3, 5, 1, 7, 8]\n",
      "[3, 1, 5, 7, 8]\n",
      "[1, 3, 5, 7, 8]\n",
      "[1, 3, 5, 7, 8]\n"
     ]
    },
    {
     "data": {
      "text/plain": [
       "'[1, 3, 5, 7, 8] \\nNumber of comparisons = 20'"
      ]
     },
     "execution_count": 50,
     "metadata": {},
     "output_type": "execute_result"
    }
   ],
   "source": [
    "bubble_sort([3,5,7,1,8])"
   ]
  },
  {
   "cell_type": "code",
   "execution_count": 51,
   "metadata": {},
   "outputs": [
    {
     "name": "stdout",
     "output_type": "stream",
     "text": [
      "[3, 1, 8]\n",
      "[1, 3, 8]\n",
      "[1, 3, 8]\n"
     ]
    },
    {
     "data": {
      "text/plain": [
       "'[1, 3, 8] \\nNumber of comparisons = 6'"
      ]
     },
     "execution_count": 51,
     "metadata": {},
     "output_type": "execute_result"
    }
   ],
   "source": [
    "bubble_sort([3,1,8])"
   ]
  },
  {
   "cell_type": "markdown",
   "metadata": {},
   "source": [
    "### We can optimize the above bubble sort in 2 ways:\n",
    "1. If no swaps are made, it means list is already sorted. in that case, we don't need to still evaulate comparisons. \n",
    "we can keep track of boolean flag which becomes true when swaps are made insode if statement. Track with swapped boolean.\n",
    "\n",
    "2. With every iteration, largest value is bubbled up to the end.So in the first iteration, the nth pos has largest element.\n",
    "Similarly in second iteration, second largest element is at n-1 position.\n",
    "This means that with each consecutive iteration we can look at one less element than before. \n",
    "More precisely, in the k-th iteration, only need to look at the first n - k + 1 elements:"
   ]
  },
  {
   "cell_type": "code",
   "execution_count": 82,
   "metadata": {},
   "outputs": [],
   "source": [
    "def optimized_bubble_sort(a):\n",
    "    count = 0\n",
    "    for i in range(len(a)):  #can include len-1 because when only 1 item will be left, we don't need to sort that\n",
    "        swapped = False\n",
    "        for j in range(len(a) - i- 1):\n",
    "            count+=1\n",
    "            if(a[j] > a[j+1]):\n",
    "                swapped = True\n",
    "                a[j], a[j+1] = a[j+1], a[j]\n",
    "                \n",
    "        if swapped==False:\n",
    "            return (f'{a} \\nNumber of comparisons = {count}')\n",
    "    return (f'{a} \\nNumber of comparisons = {count}')"
   ]
  },
  {
   "cell_type": "code",
   "execution_count": 83,
   "metadata": {},
   "outputs": [
    {
     "data": {
      "text/plain": [
       "'[1, 3, 5, 7, 8] \\nNumber of comparisons = 10'"
      ]
     },
     "execution_count": 83,
     "metadata": {},
     "output_type": "execute_result"
    }
   ],
   "source": [
    "optimized_bubble_sort([3,5,7,1,8])"
   ]
  },
  {
   "cell_type": "code",
   "execution_count": 80,
   "metadata": {},
   "outputs": [],
   "source": [
    "def bubble_sort2(our_list):\n",
    "    has_swapped = True\n",
    "\n",
    "    num_of_iterations = 0\n",
    "\n",
    "    while(has_swapped):\n",
    "        has_swapped = False\n",
    "        for i in range(len(our_list) - num_of_iterations - 1):\n",
    "            if our_list[i] > our_list[i+1]:\n",
    "                # Swap\n",
    "                our_list[i], our_list[i+1] = our_list[i+1], our_list[i]\n",
    "                has_swapped = True\n",
    "        num_of_iterations += 1\n",
    "    print(num_of_iterations)\n",
    "    return our_list"
   ]
  },
  {
   "cell_type": "code",
   "execution_count": 81,
   "metadata": {},
   "outputs": [
    {
     "name": "stdout",
     "output_type": "stream",
     "text": [
      "4\n"
     ]
    },
    {
     "data": {
      "text/plain": [
       "[1, 3, 5, 7, 8]"
      ]
     },
     "execution_count": 81,
     "metadata": {},
     "output_type": "execute_result"
    }
   ],
   "source": [
    "bubble_sort2([3,5,7,1,8])"
   ]
  },
  {
   "cell_type": "code",
   "execution_count": null,
   "metadata": {},
   "outputs": [],
   "source": []
  }
 ],
 "metadata": {
  "kernelspec": {
   "display_name": "Python 3",
   "language": "python",
   "name": "python3"
  },
  "language_info": {
   "codemirror_mode": {
    "name": "ipython",
    "version": 3
   },
   "file_extension": ".py",
   "mimetype": "text/x-python",
   "name": "python",
   "nbconvert_exporter": "python",
   "pygments_lexer": "ipython3",
   "version": "3.8.5"
  }
 },
 "nbformat": 4,
 "nbformat_minor": 4
}
