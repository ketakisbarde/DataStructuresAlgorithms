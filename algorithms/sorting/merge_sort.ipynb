{
 "cells": [
  {
   "cell_type": "markdown",
   "metadata": {},
   "source": [
    "# Merge Sort:\n",
    "- Merge Sort uses the Divide and Conquer approach. It involves breaking up the array from the middle until\n",
    "- Arrays of only 1 elements remain and thein merging them back up in a sorted order.\n",
    "-Time complexity is O(nlog N) and space complexity is O(n)\n"
   ]
  },
  {
   "cell_type": "code",
   "execution_count": 47,
   "metadata": {},
   "outputs": [],
   "source": [
    "def merge_sort(array):\n",
    "\n",
    "    if(len(array) == 1): \n",
    "        '''means we have only one element so return that element, i.e array'''\n",
    "        return array\n",
    "    \n",
    "    #split array into left an right here \n",
    "    #first, find middle of the array\n",
    "    #second, slice the array into left i.e from 0 to mid and then right from mid to end\n",
    "    \n",
    "    mid = len(array)//2\n",
    "    left = array[0:mid]\n",
    "    right = array[mid:]\n",
    "    print(\"Left:\", left, \"Right:\", right)\n",
    "    \n",
    "    return (merge(merge_sort(left), merge_sort(right)))\n",
    "\n",
    "def merge(left, right):\n",
    "    '''do comparsions here and store result in result array -- that's why space complexitiy O(N)'''\n",
    "    result = [] #define a result array to put values in correct order\n",
    "    left_index = 0 #to iterate through left array\n",
    "    right_index = 0 #to iterate through right array\n",
    "    l = len(left)\n",
    "    r = len(right)\n",
    "    \n",
    "    while(left_index < l and right_index < r):\n",
    "            \n",
    "        '''the while loop makes sure there are still elements in the arrays. \n",
    "        if so, compare left item with the right item anf whichever is less, insert into result array'''\n",
    "            \n",
    "        if(left[left_index] < right[right_index]):\n",
    "            # means left element was smaller and needs to be pushed into result array, increment left_index\n",
    "            result.append(left[left_index])\n",
    "            left_index +=1\n",
    "        else:\n",
    "            # otherwise right element needs to be pushed into result array, increment right_index\n",
    "            result.append(right[right_index])\n",
    "            right_index+=1\n",
    "                \n",
    "        #append to the result, the sliced left and sliced right\n",
    "        return result + left[left_index:]+right[right_index:]\n",
    "\n"
   ]
  },
  {
   "cell_type": "code",
   "execution_count": 48,
   "metadata": {},
   "outputs": [
    {
     "name": "stdout",
     "output_type": "stream",
     "text": [
      "Left: [6, 5, 3, 1] Right: [8, 7, 2, 4]\n",
      "Left: [6, 5] Right: [3, 1]\n",
      "Left: [6] Right: [5]\n",
      "Left: [3] Right: [1]\n",
      "Left: [8, 7] Right: [2, 4]\n",
      "Left: [8] Right: [7]\n",
      "Left: [2] Right: [4]\n"
     ]
    },
    {
     "data": {
      "text/plain": [
       "[1, 5, 6, 3, 2, 7, 8, 4]"
      ]
     },
     "execution_count": 48,
     "metadata": {},
     "output_type": "execute_result"
    }
   ],
   "source": [
    "merge_sort([6,5,3,1,8,7,2,4])"
   ]
  },
  {
   "cell_type": "code",
   "execution_count": 49,
   "metadata": {},
   "outputs": [
    {
     "name": "stdout",
     "output_type": "stream",
     "text": [
      "Left: [5, 9, 3] Right: [10, 45, 2, 0]\n",
      "Left: [5] Right: [9, 3]\n",
      "Left: [9] Right: [3]\n",
      "Left: [10, 45] Right: [2, 0]\n",
      "Left: [10] Right: [45]\n",
      "Left: [2] Right: [0]\n",
      "[0, 3, 5, 9, 10, 45, 2]\n"
     ]
    }
   ],
   "source": [
    "array = [5,9,3,10,45,2,0]\n",
    "print(merge_sort(array))"
   ]
  },
  {
   "cell_type": "code",
   "execution_count": null,
   "metadata": {},
   "outputs": [],
   "source": []
  },
  {
   "cell_type": "code",
   "execution_count": null,
   "metadata": {},
   "outputs": [],
   "source": []
  }
 ],
 "metadata": {
  "kernelspec": {
   "display_name": "Python 3",
   "language": "python",
   "name": "python3"
  },
  "language_info": {
   "codemirror_mode": {
    "name": "ipython",
    "version": 3
   },
   "file_extension": ".py",
   "mimetype": "text/x-python",
   "name": "python",
   "nbconvert_exporter": "python",
   "pygments_lexer": "ipython3",
   "version": "3.8.5"
  }
 },
 "nbformat": 4,
 "nbformat_minor": 4
}
