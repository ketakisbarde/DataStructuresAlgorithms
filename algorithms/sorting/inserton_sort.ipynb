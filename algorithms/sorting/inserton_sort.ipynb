{
 "cells": [
  {
   "cell_type": "markdown",
   "metadata": {},
   "source": [
    "# Insertion Sort:\n",
    "\n",
    "- In Insertion sort, for the first iteration we fix the first element, assuming it is at its correct position. So a[0] = min\n",
    "- Next, we loop through the rest of the elements and insert them in their correct positions, with respect to the alreay sorted  part of the array\n",
    "-Time complexity is O(n^2) in worst case   \n",
    "    "
   ]
  },
  {
   "cell_type": "code",
   "execution_count": 1,
   "metadata": {},
   "outputs": [
    {
     "name": "stdout",
     "output_type": "stream",
     "text": [
      "[5, 9, 3, 10, 45, 2, 0]\n",
      "[5, 9, 3, 10, 45, 2, 0]\n",
      "[3, 5, 9, 10, 45, 2, 0]\n",
      "[3, 5, 9, 10, 45, 2, 0]\n",
      "[3, 5, 9, 10, 45, 2, 0]\n",
      "[2, 3, 5, 9, 10, 45, 0]\n",
      "[0, 2, 3, 5, 9, 10, 45] \n",
      "Number of comparisons = 19\n"
     ]
    }
   ],
   "source": [
    "def insertion_sort(array):\n",
    "    count = 0\n",
    "    for i in range(1, len(array)):\n",
    "        print(array)\n",
    "        last_sorted_position = array[i-1]  #We store the last element which is sorted\n",
    "        count += 1\n",
    "        if array[i] < last_sorted_position: #We check if the current element is lesser than the last sorted element\n",
    "            temp = array[i] #If yes, we store the curent element in a temporary variable.\n",
    "            for j in range(i-1,-1,-1):  #We loop backwards through the sorted part of the array to check where the current element fits\n",
    "                count += 1\n",
    "                if temp < array[j]: #For every element we find in the sorted part which is greater than the current element, we shift them one place towards right to make room for the current element\n",
    "                    if j == 0: #If we reach the beginning of the array in the process, we shift the elements right and we assign the current element to the 0th position\n",
    "                        array[j+1] = array[j]\n",
    "                        array[j] = temp\n",
    "                    else: #Otherwise we just keep shifting\n",
    "                        array[j+1] = array[j]\n",
    "                else: #Once we find an element that is smaller than the current element, it means we have found the position to insert out current element at\n",
    "                    array[j+1] = temp #So we just assign the element to its correct position\n",
    "                    break #And break out of this loop\n",
    "    return (f'{array} \\nNumber of comparisons = {count}')\n",
    "\n",
    "array = [5,9,3,10,45,2,0]\n",
    "print(insertion_sort(array))"
   ]
  },
  {
   "cell_type": "code",
   "execution_count": null,
   "metadata": {},
   "outputs": [],
   "source": []
  }
 ],
 "metadata": {
  "kernelspec": {
   "display_name": "Python 3",
   "language": "python",
   "name": "python3"
  },
  "language_info": {
   "codemirror_mode": {
    "name": "ipython",
    "version": 3
   },
   "file_extension": ".py",
   "mimetype": "text/x-python",
   "name": "python",
   "nbconvert_exporter": "python",
   "pygments_lexer": "ipython3",
   "version": "3.8.5"
  }
 },
 "nbformat": 4,
 "nbformat_minor": 4
}
