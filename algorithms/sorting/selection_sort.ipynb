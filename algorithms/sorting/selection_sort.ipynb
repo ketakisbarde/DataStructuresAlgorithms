{
 "cells": [
  {
   "cell_type": "markdown",
   "metadata": {},
   "source": [
    "# Selection Sort\n",
    "### Selection sort involves finding the minimum element in one pass through the array and then swapping it with the first position of the unsorted part of the array.\n",
    "- Time complexity of selection sort is O(n^2) in all cases\n"
   ]
  },
  {
   "cell_type": "code",
   "execution_count": 7,
   "metadata": {},
   "outputs": [],
   "source": [
    "def selection_sort(array):\n",
    "    \n",
    "    for i in range(len(array)):\n",
    "        minimum = i #store min index, which initially is first index i.e = 0\n",
    "        for j in range(i+1, len(array)): \n",
    "            \n",
    "            #now scan ahead starting from i+1 to look for index of min element \n",
    "            if(array[j] < array[minimum]):\n",
    "                minimum= j #we found min index to swap\n",
    "                \n",
    "            '''outside if, we have to swap min index with initial assumed min index'''\n",
    "            t = array[minimum]\n",
    "            array[minimum] = array[i]\n",
    "            array[i] = t\n",
    "    return array\n",
    "    "
   ]
  },
  {
   "cell_type": "code",
   "execution_count": 8,
   "metadata": {},
   "outputs": [
    {
     "data": {
      "text/plain": [
       "[0, 1, 4, 8, 17, 22]"
      ]
     },
     "execution_count": 8,
     "metadata": {},
     "output_type": "execute_result"
    }
   ],
   "source": [
    "selection_sort([1,4,22,17,8,0])"
   ]
  },
  {
   "cell_type": "code",
   "execution_count": null,
   "metadata": {},
   "outputs": [],
   "source": [
    "'''This is from the solution video '''\n",
    "def selection_sort2(array):\n",
    "    count = 0\n",
    "    for i in range(len(array)-1): #-1 because when only 1 elment remians, it will be already be sorted\n",
    "        print(array)\n",
    "        minimum = array[i] #We set the minimum element to be the ith element\n",
    "        minimum_index = i #And the minimum index to be the ith index\n",
    "        for j in range(i+1,len(array)): #Then we check the array from the i+1th element to the end\n",
    "            count += 1\n",
    "            if array[j] < minimum: #If a smaller element than the minimum element is found, we re-assign the minimum element and the minimu index\n",
    "                minimum = array[j]\n",
    "                minimum_index = j\n",
    "        if minimum_index != i: #If minimum index has changed, i.e, a smaller  element has been found, then we swap that element with the ith element\n",
    "            array[minimum_index], array[i] = array[i], array[minimum_index]\n",
    "    return (f'{array} \\nNumber of comparisons = {count}')"
   ]
  },
  {
   "cell_type": "code",
   "execution_count": null,
   "metadata": {},
   "outputs": [],
   "source": []
  }
 ],
 "metadata": {
  "kernelspec": {
   "display_name": "Python 3",
   "language": "python",
   "name": "python3"
  },
  "language_info": {
   "codemirror_mode": {
    "name": "ipython",
    "version": 3
   },
   "file_extension": ".py",
   "mimetype": "text/x-python",
   "name": "python",
   "nbconvert_exporter": "python",
   "pygments_lexer": "ipython3",
   "version": "3.8.5"
  }
 },
 "nbformat": 4,
 "nbformat_minor": 4
}
