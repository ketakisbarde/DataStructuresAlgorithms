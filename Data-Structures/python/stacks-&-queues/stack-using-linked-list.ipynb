{
 "cells": [
  {
   "cell_type": "markdown",
   "metadata": {},
   "source": [
    "### Stacks using Linked List\n",
    "- Stacks are linear data-structures which can be implemented using either stacks or linked lists\n",
    "- Insertion and deletion of elements in a stack take place from one end only.\n",
    "- Stacks follow the LIFO rule - Last In First Out, where the last element that is inserted, is the first element that comes out.\n",
    "\n",
    "\n",
    "- The main operations that can be performed on a stack , with their time complexities are as follows:\n",
    "- Push (Insert) - O(1)\n",
    "- Pop (Remove) - O(1)\n",
    "- Peek (Retrieve the top element) - O(1)\n",
    "\n",
    "- Here we'll implement a stack using linked lists\n",
    "\n",
    "- Linked Lists are made of nodes. So we create a node class.\n",
    "- It will contain the data and the pointer to the next node."
   ]
  },
  {
   "cell_type": "code",
   "execution_count": null,
   "metadata": {},
   "outputs": [],
   "source": [
    "class Node:\n",
    "    '''if we instantiate this class, it defines a dangling node set with given data value'''\n",
    "    def __init__(self, data):\n",
    "        self.data = data\n",
    "        self.next = None\n",
    "        \n",
    "class Stack:\n",
    "    \n",
    "    def __init__(self):\n",
    "        self.top = None\n",
    "        self.bottom = None\n",
    "        self.length = 0\n",
    "    \n",
    "    def __str__(self):\n",
    "        '''This func is just to print contents in string format'''\n",
    "        return str(self.__dict__)\n",
    "    \n",
    "    def peek(self):\n",
    "        '''this peeks at the last added element in stack and returns it'''\n",
    "        if(self.top is None): #means stack is empty\n",
    "            print(\"Empty stack\")\n",
    "            return None\n",
    "        #return node at top position\n",
    "        return self.top.data\n",
    "        \n",
    "    \n",
    "    '''Next comes the push operation, where we insert an element at the top of the stack\n",
    "        Again this only requires access to the top pointer and inl=volves no looping.\n",
    "        So time complexity is O(1)'''\n",
    "            \n",
    "    def push(self, value):\n",
    "        \n",
    "        '''add value at top position'''\n",
    "        newNode = Node(value) #returns a node with value\n",
    "        \n",
    "        if(self.top == None): #or check if length is 0\n",
    "            self.top = newNode\n",
    "            self.bottom = newNode\n",
    "        else:\n",
    "            newNode.next = self.top\n",
    "            self.top = newNode\n",
    "        self.length+=1   \n",
    "    \n",
    "    '''Next comes the pop operation wehere we remove the top element from the stack\n",
    "        Its time complexity is O(1) as well'''\n",
    "    def pop(self):\n",
    "        if(self.top is None):\n",
    "            print(\"Cant pop, empty stack\")\n",
    "            return None\n",
    "        else:\n",
    "            print(\"Item popped\", self.top)\n",
    "            self.top = self.top.next\n",
    "            if(self.length == 0): #We make the bottom pointer None if there was only 1 element in the stack and that gets popped\n",
    "                self.bottom = None\n",
    "        self.length-=1 \n",
    "        \n",
    "    def display(self):\n",
    "        temp = self.top\n",
    "        if(self.top is None):\n",
    "            print(\"Empty Stack\")\n",
    "        else:\n",
    "            while temp!=None:\n",
    "                print(temp.data)\n",
    "                temp=temp.next\n",
    "        \n",
    "        \n",
    "        "
   ]
  },
  {
   "cell_type": "code",
   "execution_count": 116,
   "metadata": {},
   "outputs": [
    {
     "name": "stdout",
     "output_type": "stream",
     "text": [
      "{'top': None, 'bottom': None, 'length': 0}\n"
     ]
    }
   ],
   "source": [
    "#created empty stack\n",
    "mystack = Stack() \n",
    "print(mystack)"
   ]
  },
  {
   "cell_type": "code",
   "execution_count": 129,
   "metadata": {},
   "outputs": [],
   "source": [
    "mystack.push(\"google\")"
   ]
  },
  {
   "cell_type": "code",
   "execution_count": 130,
   "metadata": {},
   "outputs": [
    {
     "data": {
      "text/plain": [
       "'google'"
      ]
     },
     "execution_count": 130,
     "metadata": {},
     "output_type": "execute_result"
    }
   ],
   "source": [
    "mystack.peek()"
   ]
  },
  {
   "cell_type": "code",
   "execution_count": 131,
   "metadata": {},
   "outputs": [
    {
     "data": {
      "text/plain": [
       "5"
      ]
     },
     "execution_count": 131,
     "metadata": {},
     "output_type": "execute_result"
    }
   ],
   "source": [
    "mystack.length"
   ]
  },
  {
   "cell_type": "code",
   "execution_count": 133,
   "metadata": {},
   "outputs": [
    {
     "name": "stdout",
     "output_type": "stream",
     "text": [
      "Item popped <__main__.Node object at 0x000001BA7CDE9910>\n"
     ]
    }
   ],
   "source": [
    "mystack.pop()"
   ]
  },
  {
   "cell_type": "code",
   "execution_count": 134,
   "metadata": {},
   "outputs": [
    {
     "name": "stdout",
     "output_type": "stream",
     "text": [
      "AVS\n",
      "22\n",
      "24\n",
      "25\n"
     ]
    }
   ],
   "source": [
    "mystack.display()"
   ]
  },
  {
   "cell_type": "code",
   "execution_count": null,
   "metadata": {},
   "outputs": [],
   "source": []
  }
 ],
 "metadata": {
  "kernelspec": {
   "display_name": "Python 3",
   "language": "python",
   "name": "python3"
  },
  "language_info": {
   "codemirror_mode": {
    "name": "ipython",
    "version": 3
   },
   "file_extension": ".py",
   "mimetype": "text/x-python",
   "name": "python",
   "nbconvert_exporter": "python",
   "pygments_lexer": "ipython3",
   "version": "3.8.5"
  }
 },
 "nbformat": 4,
 "nbformat_minor": 4
}
