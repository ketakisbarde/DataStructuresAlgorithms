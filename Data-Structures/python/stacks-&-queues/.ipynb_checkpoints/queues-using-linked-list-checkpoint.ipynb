{
 "cells": [
  {
   "cell_type": "markdown",
   "metadata": {},
   "source": [
    "#### Queues are another form of linear data structure very similar to stacks. The difference is queues follow the FIFO rule - First In First Out, much like real life queues,Where the person gets in first, gets to leave first.\n",
    "#### Quesues can be implemented with both arrays and linked lists but the array implementation is not eficient because for removing an element from the queues, which happens from the front of the array(queue),the indices of the array have to be updated every time, essentially making it an O(n) operation,Whereas the same operation can be done in O(1) time with linked lists.\n",
    "#### Queues have enqueue and dequeue operations which correspond to the push and pop operations of stacks , only difference being dequeue removes element from the front\n",
    "##### Time complexities are as follows:\n",
    "- Peek - O(1)\n",
    "- Enqueue - O(1)\n",
    "- Dequeue - o(1)"
   ]
  },
  {
   "cell_type": "code",
   "execution_count": 33,
   "metadata": {},
   "outputs": [],
   "source": [
    "'''Like for stacks, we need a node class which will contain the data and a pointer to the next node'''\n",
    "class Node:\n",
    "    def __init__(self, data):\n",
    "        self.data = data\n",
    "        self.next = None\n",
    "\n",
    "class Queue():\n",
    "\n",
    "    '''The 'first' pointer will always point to the front of the queue, the element which is to be removed next that is\n",
    "        The 'last' pointer will always point to the end of the queue, i.e., the element which has last been entered'''\n",
    "    def __init__(self):\n",
    "        self.first = None\n",
    "        self.last = None\n",
    "        self.length = 0\n",
    "        \n",
    "    def peek(self):\n",
    "        '''returns the very first element of queue, this refers to node pointed by head i.e self.first'''\n",
    "        if(self.first == None):\n",
    "            print(\"Empty queue!\")\n",
    "        else: return self.first.data\n",
    "    \n",
    "    '''The enqueue operation will add an element at the end of the queue.If the queue is empty, it will make both the first and last pointer point to the new node\n",
    "    Else, if will first make the next of the new node to point to the present last node and then it will update the last node to point to the new node\n",
    "    Time complexity will be O(1)'''\n",
    "    \n",
    "    def enqueue(self, value):\n",
    "        '''add item to end of queue meanig at \"last\" position where tail(or last) is pointing'''\n",
    "        \n",
    "        newNode = Node(value)\n",
    "        if(self.first == None): #means it is the very first element to be added and newnode has both first and last pointing to it\n",
    "            self.first = newNode\n",
    "            self.last = newNode\n",
    "        else:\n",
    "            self.last.next = newNode\n",
    "            self.last = newNode\n",
    "            \n",
    "        self.length +=1\n",
    "    \n",
    "    def dequeue(self):\n",
    "        '''removes item first added == FIFO way. meanig remove from head because that element was added very first'''\n",
    "        if(self.first is None):\n",
    "            print(\"Empty queue, can't dequeue\")\n",
    "        if(self.first == self.last): #to check if the node we are deque-ing is the last node of the queue, garbage collection case\n",
    "            self.last = None\n",
    "        else:\n",
    "            self.first = self.first.next\n",
    "            self.length -= 1\n",
    "            \n",
    "        \n",
    "    def display(self):\n",
    "        current = self.first\n",
    "        if(current == None):\n",
    "            print(\"Empty queue\")\n",
    "        else:\n",
    "            while(current!=None):\n",
    "                print(current.data)\n",
    "                current=current.next\n",
    "                "
   ]
  },
  {
   "cell_type": "code",
   "execution_count": 34,
   "metadata": {},
   "outputs": [],
   "source": [
    "myqueue = Queue()"
   ]
  },
  {
   "cell_type": "code",
   "execution_count": 35,
   "metadata": {},
   "outputs": [
    {
     "name": "stdout",
     "output_type": "stream",
     "text": [
      "Empty queue!\n"
     ]
    }
   ],
   "source": [
    "myqueue.peek()"
   ]
  },
  {
   "cell_type": "code",
   "execution_count": 36,
   "metadata": {},
   "outputs": [],
   "source": [
    "myqueue.enqueue(10)\n",
    "myqueue.enqueue(20)\n",
    "myqueue.enqueue(30)\n",
    "myqueue.enqueue(40)"
   ]
  },
  {
   "cell_type": "code",
   "execution_count": 39,
   "metadata": {},
   "outputs": [
    {
     "name": "stdout",
     "output_type": "stream",
     "text": [
      "20\n",
      "30\n",
      "40\n"
     ]
    }
   ],
   "source": [
    "myqueue.display()"
   ]
  },
  {
   "cell_type": "code",
   "execution_count": 38,
   "metadata": {},
   "outputs": [],
   "source": [
    "myqueue.dequeue()"
   ]
  },
  {
   "cell_type": "code",
   "execution_count": null,
   "metadata": {},
   "outputs": [],
   "source": []
  }
 ],
 "metadata": {
  "kernelspec": {
   "display_name": "Python 3",
   "language": "python",
   "name": "python3"
  },
  "language_info": {
   "codemirror_mode": {
    "name": "ipython",
    "version": 3
   },
   "file_extension": ".py",
   "mimetype": "text/x-python",
   "name": "python",
   "nbconvert_exporter": "python",
   "pygments_lexer": "ipython3",
   "version": "3.8.5"
  }
 },
 "nbformat": 4,
 "nbformat_minor": 4
}
