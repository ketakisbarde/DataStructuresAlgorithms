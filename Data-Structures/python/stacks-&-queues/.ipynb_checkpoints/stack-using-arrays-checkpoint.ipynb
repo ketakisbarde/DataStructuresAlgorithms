{
 "cells": [
  {
   "cell_type": "markdown",
   "metadata": {},
   "source": [
    "### Stacks using arrays(i.e lists in python)\n",
    "- Stacks can be implemented with th ehelp of arrays as well.\n",
    "- We can insert and delete elements only at the end of the array(the top of the stack)\n",
    "- Python comes built-in with lists which are basically arrays.\n",
    "- They contain functionalities like append and pop which correspond to the push and pop methods of stacks respectively\n",
    "- So implementing stacks using arrays is pretty simple in Python\n",
    "- The time complexities of different operations are same as that for the inked list implementation of stacks"
   ]
  },
  {
   "cell_type": "markdown",
   "metadata": {},
   "source": [
    "#### Stacks can be implemented in Python in two more ways.\n",
    "1. Using the 'deque' class from 'collections' module. Same methods used in lists, append and pop are used in deques\n",
    "2. Using 'LifoQueue' from the 'queue' module . 'put()' and 'get()' methods are used for pushing and popping. It comes with some other useful metjods async well. \n"
   ]
  },
  {
   "cell_type": "code",
   "execution_count": 26,
   "metadata": {},
   "outputs": [],
   "source": [
    "class Stack:\n",
    "    \n",
    "    def __init__(self):\n",
    "        self.array = []  \n",
    "    \n",
    "    def peek(self):\n",
    "        if len(self.array) == 0:\n",
    "            return (\"Empty stack\")\n",
    "        return self.array[len(self.array)-1]\n",
    "    \n",
    "    #Also, O(1) to insert at last position in stack!\n",
    "    def push(self, value):\n",
    "        self.array.append(value)\n",
    "        return\n",
    "    \n",
    "    '''For pop operation, we use thebuilt-in pop method of lists, which removes the last element of the list(top element of\n",
    "       the stack)Time complexity of pop operation for the last element of the list is O(1).'''\n",
    "    def pop(self):\n",
    "        if len(self.array) == 0:\n",
    "            print(\"Empty stack. Cant pop!\")\n",
    "        else:\n",
    "            self.array.pop()\n",
    "            # or del self.array[len(self.array) -1]\n",
    "    \n",
    "    \n",
    "    '''Stack follows LIFO, so for the print operation, we have to print the last element of the list first.\n",
    "       This will require a loop traversing the entire array, so the complexity is O(n)'''\n",
    "    def display(self):\n",
    "        if(len(self.array) == 0):\n",
    "            print(\"Empty stack!\")\n",
    "        else:\n",
    "            [print(i) for i in self.array]"
   ]
  },
  {
   "cell_type": "code",
   "execution_count": 27,
   "metadata": {},
   "outputs": [
    {
     "data": {
      "text/plain": [
       "'Empty stack'"
      ]
     },
     "execution_count": 27,
     "metadata": {},
     "output_type": "execute_result"
    }
   ],
   "source": [
    "mystack = Stack()\n",
    "mystack.peek()"
   ]
  },
  {
   "cell_type": "code",
   "execution_count": 30,
   "metadata": {},
   "outputs": [],
   "source": [
    "mystack.push(10)\n",
    "mystack.push(20)\n",
    "mystack.push(30)\n",
    "mystack.push(3999)"
   ]
  },
  {
   "cell_type": "code",
   "execution_count": 33,
   "metadata": {},
   "outputs": [
    {
     "name": "stdout",
     "output_type": "stream",
     "text": [
      "10\n",
      "20\n",
      "30\n",
      "10\n",
      "20\n",
      "30\n"
     ]
    }
   ],
   "source": [
    "mystack.display()"
   ]
  },
  {
   "cell_type": "code",
   "execution_count": 32,
   "metadata": {},
   "outputs": [],
   "source": [
    "mystack.pop()"
   ]
  },
  {
   "cell_type": "code",
   "execution_count": null,
   "metadata": {},
   "outputs": [],
   "source": []
  }
 ],
 "metadata": {
  "kernelspec": {
   "display_name": "Python 3",
   "language": "python",
   "name": "python3"
  },
  "language_info": {
   "codemirror_mode": {
    "name": "ipython",
    "version": 3
   },
   "file_extension": ".py",
   "mimetype": "text/x-python",
   "name": "python",
   "nbconvert_exporter": "python",
   "pygments_lexer": "ipython3",
   "version": "3.8.5"
  }
 },
 "nbformat": 4,
 "nbformat_minor": 4
}
