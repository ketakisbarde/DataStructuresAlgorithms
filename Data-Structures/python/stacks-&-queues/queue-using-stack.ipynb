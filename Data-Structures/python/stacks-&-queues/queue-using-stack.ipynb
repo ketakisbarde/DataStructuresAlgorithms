{
 "cells": [
  {
   "cell_type": "code",
   "execution_count": 1,
   "metadata": {},
   "outputs": [],
   "source": [
    "#This ia popular interview question. Implementation of a queue using stacks.\n",
    "#We have access to stacks push and pop operations. Using those we need to execute a qeueue's enqueue and dequeue operation\n",
    "\n",
    "#It can be done in two ways, by either making the enqueue operation costly(O(n)) or the dequeue operation costly(O(n))\n",
    "#In the first method, we need two stacks say s1 and s2 and we have maintain them such that the element entered first\n",
    "#Is always at the top of the stack s1. This way, for dequeue, we just need to pop from s1.\n",
    "#But for enqueueing, we have to make the enqueued item reach the bottom of the stack.\n",
    "#For that, we will have to pop the elements of s1 one by one and push them onto stack 2, then add the new item to stack1 ,\n",
    "#And then again pop everything from stack2 and push it back to stack 1., so the new item is now at the last.\n",
    "\n",
    "#Lets implement a queue using stacks(array implementation) using this method first"
   ]
  },
  {
   "cell_type": "code",
   "execution_count": 2,
   "metadata": {},
   "outputs": [
    {
     "name": "stdout",
     "output_type": "stream",
     "text": [
      "2 <<-- 5 <<-- 0\n",
      "5 <<-- 0\n",
      "5\n",
      "5 <<-- 0 <<-- 9\n",
      "Queue Empty\n"
     ]
    },
    {
     "data": {
      "text/plain": [
       "'\\nFor the second method, we can make the dequeue operation costly just like we did with the enqueue operation above.\\nFor enqueueing, we will simply push in s1.\\nFor dequeueing, we will pop all but last element of s1 and push it onto s2. Then we will pop the last element of s1,\\nWhich is the element we want to dequeue. After that we pop out all items of s2 and push it back onto s1.\\nThis makes the dequeue uperation O(n) while enqueue and peek remain O(1)\\n'"
      ]
     },
     "execution_count": 2,
     "metadata": {},
     "output_type": "execute_result"
    }
   ],
   "source": [
    "#Lets implement a queue using stacks(array implementation) using this method first\n",
    "\n",
    "class Queue():\n",
    "    def __init__(self):\n",
    "        self.s1 = []\n",
    "        self.s2 = []\n",
    "\n",
    "\n",
    "    def peek(self):\n",
    "        if len(self.s1) == 0:\n",
    "            print(\"Queue empty\")\n",
    "        else:\n",
    "            return self.s1[len(self.s1)-1]\n",
    "\n",
    "\n",
    "    def enqueue(self, data):\n",
    "        for i in range(len(self.s1)):\n",
    "            item = self.s1.pop()\n",
    "            self.s2.append(item)\n",
    "        self.s1.append(data)\n",
    "        for i in range(len(self.s2)):\n",
    "            item = self.s2.pop()\n",
    "            self.s1.append(item)\n",
    "        return\n",
    "\n",
    "    def dequeue(self):\n",
    "        if len(self.s1)==0:\n",
    "            print(\"Queue Empty\")\n",
    "            return\n",
    "        else:\n",
    "            return self.s1.pop()\n",
    "\n",
    "    def print_queue(self):\n",
    "        if len(self.s1) == 0:\n",
    "            print(\"Queue Empty\")\n",
    "            return\n",
    "        for i in range(len(self.s1) - 1,0,-1):\n",
    "            print(f'{self.s1[i]} <<-- ',end='')\n",
    "        print(self.s1[0])\n",
    "        return\n",
    "\n",
    "\n",
    "my_queue = Queue()\n",
    "my_queue.enqueue(2)\n",
    "my_queue.enqueue(5)\n",
    "my_queue.enqueue(0)\n",
    "my_queue.print_queue()\n",
    "#2 <<-- 5 <<-- 0\n",
    "\n",
    "my_queue.dequeue()\n",
    "my_queue.print_queue()\n",
    "#5 <<-- 0\n",
    "\n",
    "print(my_queue.peek())\n",
    "#5\n",
    "my_queue.enqueue(9)\n",
    "my_queue.print_queue()\n",
    "#5 <<-- 0 <<-- 9\n",
    "\n",
    "my_queue.dequeue()\n",
    "my_queue.dequeue()\n",
    "my_queue.dequeue()\n",
    "my_queue.print_queue()\n",
    "#Queue Empty\n",
    "\n",
    "\n",
    "'''\n",
    "For the second method, we can make the dequeue operation costly just like we did with the enqueue operation above.\n",
    "For enqueueing, we will simply push in s1.\n",
    "For dequeueing, we will pop all but last element of s1 and push it onto s2. Then we will pop the last element of s1,\n",
    "Which is the element we want to dequeue. After that we pop out all items of s2 and push it back onto s1.\n",
    "This makes the dequeue uperation O(n) while enqueue and peek remain O(1)\n",
    "'''"
   ]
  },
  {
   "cell_type": "code",
   "execution_count": null,
   "metadata": {},
   "outputs": [],
   "source": []
  }
 ],
 "metadata": {
  "kernelspec": {
   "display_name": "Python 3",
   "language": "python",
   "name": "python3"
  },
  "language_info": {
   "codemirror_mode": {
    "name": "ipython",
    "version": 3
   },
   "file_extension": ".py",
   "mimetype": "text/x-python",
   "name": "python",
   "nbconvert_exporter": "python",
   "pygments_lexer": "ipython3",
   "version": "3.8.5"
  }
 },
 "nbformat": 4,
 "nbformat_minor": 4
}
