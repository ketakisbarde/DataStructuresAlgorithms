{
 "cells": [
  {
   "cell_type": "markdown",
   "metadata": {},
   "source": [
    "- Binary Search Trees are a non-linear data structure.\n",
    "- They consist of a root node and zero, one or two children where the children can again have 0,1, or 2 nodes as their children and so on\n",
    "- In most cases, the time complexity of operations on a BST, which include, lookups, insertions and deletions, take O(log N) time\n",
    "- Except for the worst case, where the tree is heavily unbalanced with all the nodes being on one side of the tree.\n",
    "- In that case, it basically becomes a linked list and the time complexities go up to O(n)\n",
    "\n",
    "#### Lets implement an unbalanced Binary Search Tree first\n",
    "- We will need a node class to store information about each node\n",
    "- It will store the data and the pointers to its left and right children"
   ]
  },
  {
   "cell_type": "code",
   "execution_count": 59,
   "metadata": {},
   "outputs": [],
   "source": [
    "class Node:\n",
    "    def __init__(self, data):\n",
    "        self.data = data\n",
    "        self.left= None\n",
    "        self.right = None\n",
    "        \n",
    "'''Now we will implement the Binary Search Tree having a constructor with the root node initialised to None\n",
    "    And the three methods, lookup, insert and delete'''\n",
    "\n",
    "class BST():\n",
    "    def __init__(self):\n",
    "        self.root = None\n",
    "    \n",
    "    def insert(self, value):\n",
    "        '''inserts given value at an appropriate position based on root'''\n",
    "        newNode = Node(value)\n",
    "        \n",
    "        #we need to traverse the tree until we find appropriate poistion starting at the root node\n",
    "        #first check for empty tree\n",
    "        \n",
    "        if( self.root == None ): #means there is no root, tree is empty, make newNode= root\n",
    "            self.root = newNode\n",
    "            print(\"Value added at root!\")\n",
    "        else:\n",
    "            #if it is not empty, current node is at root node and we need to traverse based on direction\n",
    "            currentNode= self.root\n",
    "            while(True):\n",
    "                if(value < currentNode.data):\n",
    "                    #Go left\n",
    "                    if(not currentNode.left): #check if there's a node laready on left of current node, if there isn't simply add this node\n",
    "                        currentNode.left = newNode\n",
    "                        print(\"Value added to left of tree!\")\n",
    "                        return None \n",
    "                    currentNode = currentNode.left #if there's a node on the left, move to that node\n",
    "                    '''The above block of code keeps looping towards the left (when value < curr) until it finds a case\n",
    "                    where there is no node on the left, it then adds our node to the tree'''\n",
    "                else:\n",
    "                    #Right\n",
    "                    #enters else if value is >= than current node. upto us to decide what to do in case of equality\n",
    "                    if(not currentNode.right): #if there's nothing on the right, add our newnode here\n",
    "                        currentNode.right = newNode\n",
    "                        print(\"Value added to right of tree!\")\n",
    "                        return None #very imp to stop the infinite whike loop\n",
    "                    currentNode = currentNode.right #otherwise keep going right\n",
    "        \n",
    "    def lookup(self, value):\n",
    "        '''This function searches for a node with given value'''\n",
    "        #first, check if tree is empty anf there's nothing to search\n",
    "        if(self.root is None):\n",
    "            print(\"Tree is empty. Value not found\")\n",
    "            return False\n",
    "        else:\n",
    "            #we need to traverse in the directions based on value using a current node pointer\n",
    "            currentNode = self.root\n",
    "            while(True):\n",
    "                if(currentNode == None): #loop stops whenever curr node is null, we don't have any node to visit\n",
    "                    print(\"Value not found\")\n",
    "                    return False\n",
    "                \n",
    "                if(value < currentNode.data):\n",
    "                    '''means its not the node we are looking for, go left'''\n",
    "                    currentNode = currentNode.left\n",
    "                    \n",
    "                elif(value > currentNode.data):\n",
    "                    '''means its not the node we're looking for, go right'''\n",
    "                    currentNode = currentNode.right\n",
    "                    \n",
    "                elif(value == currentNode.data):\n",
    "                    print(\"Value found!\")\n",
    "                    return \n",
    "                \n",
    "            return False  \n",
    "        \n",
    "    ''' Finally comes the very complicated remove method.\n",
    "        This one is too complicated for me to explain while writing. So I'll just write the code down with some comments\n",
    "        explaining which conditions are being checked'''\n",
    "    def remove(self, data):\n",
    "        if self.root == None: #Tree is empty\n",
    "            return \"Tree Is Empty\"\n",
    "        current_node = self.root\n",
    "        parent_node = None\n",
    "        while current_node!=None: #Traversing the tree to reach the desired node or the end of the tree\n",
    "            if current_node.data > data:\n",
    "                parent_node = current_node\n",
    "                current_node = current_node.left\n",
    "            elif current_node.data < data:\n",
    "                parent_node = current_node\n",
    "                current_node = current_node.right\n",
    "            else: #Match is found. Different cases to be checked\n",
    "                #Node has left child only\n",
    "                if current_node.right == None:\n",
    "                    if parent_node == None:\n",
    "                        self.root = current_node.left\n",
    "                        return\n",
    "                    else:\n",
    "                        if parent_node.data > current_node.data:\n",
    "                            parent_node.left = current_node.left\n",
    "                            return\n",
    "                        else:\n",
    "                            parent_node.right = current_node.left\n",
    "                            return\n",
    "\n",
    "                #Node has right child only\n",
    "                elif current_node.left == None:\n",
    "                    if parent_node == None:\n",
    "                        self.root = current_node.right\n",
    "                        return\n",
    "                    else:\n",
    "                        if parent_node.data > current_node.data:\n",
    "                            parent_node.left = current_node.right\n",
    "                            return\n",
    "                        else:\n",
    "                            parent_node.right = current_node.right\n",
    "                            return\n",
    "\n",
    "                #Node has neither left nor right child\n",
    "                elif current_node.left == None and current_node.right == None:\n",
    "                    if parent_node == None: #Node to be deleted is root\n",
    "                        current_node = None\n",
    "                        return\n",
    "                    if parent_node.data > current_node.data:\n",
    "                        parent_node.left = None\n",
    "                        return\n",
    "                    else:\n",
    "                        parent_node.right = None\n",
    "                        return\n",
    "\n",
    "                #Node has both left and right child\n",
    "                elif current_node.left != None and current_node.right != None:\n",
    "                    del_node = current_node.right\n",
    "                    del_node_parent = current_node.right\n",
    "                    while del_node.left != None: #Loop to reach the leftmost node of the right subtree of the current node\n",
    "                        del_node_parent = del_node\n",
    "                        del_node = del_node.left\n",
    "                    current_node.data = del_node.data #The value to be replaced is copied\n",
    "                    if del_node == del_node_parent: #If the node to be deleted is the exact right child of the current node\n",
    "                        current_node.right = del_node.right\n",
    "                        return\n",
    "                    if del_node.right == None: #If the leftmost node of the right subtree of the current node has no right subtree\n",
    "                        del_node_parent.left = None\n",
    "                        return\n",
    "                    else: #If it has a right subtree, we simply link it to the parent of the del_node\n",
    "                        del_node_parent.left = del_node.right\n",
    "                        return\n",
    "        return \"Not Found\"\n",
    "\n",
    "        \n",
    "                        "
   ]
  },
  {
   "cell_type": "code",
   "execution_count": 60,
   "metadata": {},
   "outputs": [],
   "source": [
    "mytree = BST()"
   ]
  },
  {
   "cell_type": "code",
   "execution_count": 61,
   "metadata": {},
   "outputs": [
    {
     "name": "stdout",
     "output_type": "stream",
     "text": [
      "Value added at root!\n"
     ]
    }
   ],
   "source": [
    "mytree.insert(40)"
   ]
  },
  {
   "cell_type": "code",
   "execution_count": 62,
   "metadata": {},
   "outputs": [
    {
     "name": "stdout",
     "output_type": "stream",
     "text": [
      "Value added to left of tree!\n"
     ]
    }
   ],
   "source": [
    "mytree.insert(13)"
   ]
  },
  {
   "cell_type": "code",
   "execution_count": 63,
   "metadata": {},
   "outputs": [
    {
     "name": "stdout",
     "output_type": "stream",
     "text": [
      "Value added to right of tree!\n"
     ]
    }
   ],
   "source": [
    "mytree.insert(22)"
   ]
  },
  {
   "cell_type": "code",
   "execution_count": 64,
   "metadata": {},
   "outputs": [
    {
     "name": "stdout",
     "output_type": "stream",
     "text": [
      "Value added to right of tree!\n"
     ]
    }
   ],
   "source": [
    "mytree.insert(60)"
   ]
  },
  {
   "cell_type": "code",
   "execution_count": 68,
   "metadata": {},
   "outputs": [
    {
     "name": "stdout",
     "output_type": "stream",
     "text": [
      "Value not found\n"
     ]
    },
    {
     "data": {
      "text/plain": [
       "False"
      ]
     },
     "execution_count": 68,
     "metadata": {},
     "output_type": "execute_result"
    }
   ],
   "source": [
    "mytree.lookup(20)"
   ]
  },
  {
   "cell_type": "code",
   "execution_count": null,
   "metadata": {},
   "outputs": [],
   "source": []
  }
 ],
 "metadata": {
  "kernelspec": {
   "display_name": "Python 3",
   "language": "python",
   "name": "python3"
  },
  "language_info": {
   "codemirror_mode": {
    "name": "ipython",
    "version": 3
   },
   "file_extension": ".py",
   "mimetype": "text/x-python",
   "name": "python",
   "nbconvert_exporter": "python",
   "pygments_lexer": "ipython3",
   "version": "3.8.5"
  }
 },
 "nbformat": 4,
 "nbformat_minor": 4
}
