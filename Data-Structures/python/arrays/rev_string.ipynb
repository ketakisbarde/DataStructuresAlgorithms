{
 "cells": [
  {
   "cell_type": "code",
   "execution_count": 1,
   "metadata": {},
   "outputs": [
    {
     "data": {
      "text/plain": [
       "'ikatek ma i iH'"
      ]
     },
     "execution_count": 1,
     "metadata": {},
     "output_type": "execute_result"
    }
   ],
   "source": [
    "def reverse_string(s):\n",
    "    return s[::-1] \n",
    "   \n",
    "reverse_string(\"Hi i am ketaki\")"
   ]
  },
  {
   "cell_type": "code",
   "execution_count": 27,
   "metadata": {},
   "outputs": [
    {
     "name": "stdout",
     "output_type": "stream",
     "text": [
      "rehtoM olleH\n"
     ]
    }
   ],
   "source": [
    "def simple_reverse(string):\n",
    "    new_string = []\n",
    "    for i in range(len(string)-1, -1, -1): #The for loop runs from the last element to the first element of the original string\n",
    "        new_string.append(string[i]) #The characters of the original string are added to the new string\n",
    "    return ''.join(new_string) #The characters of the reversed array are joined to form a string\n",
    "\n",
    "string = \"Hello Mother\"\n",
    "print(simple_reverse(string))\n",
    "#Since we only have to traverse the string once, the time complexity is O(n)\n",
    "#But since we are also creating a new array of the same size , the space complexity is also O(n)"
   ]
  },
  {
   "cell_type": "code",
   "execution_count": 29,
   "metadata": {},
   "outputs": [
    {
     "name": "stdout",
     "output_type": "stream",
     "text": [
      "rehtoM olleH\n"
     ]
    }
   ],
   "source": [
    "#A smarter way to do this , can be taking a pair of elements from either end of the string and swapping them\n",
    "#We have start at both the ends and continue swapping pairs till the middle of the string\n",
    "#This way we can avoid having to create a new array and save on space complexity while keeping time complexity at O(n)\n",
    "\n",
    "def swap(string, a, b): #Function which swaps two characters of a string\n",
    "    string = list(string)\n",
    "    temp = string[a]\n",
    "    string[a] = string[b]\n",
    "    string[b] = temp\n",
    "    return ''.join(string)\n",
    "\n",
    "def smarter_reverse(string):\n",
    "    for i in range(len(string)//2):\n",
    "        string = swap(string, i, len(string)-i-1)\n",
    "    return string\n",
    "\n",
    "print(smarter_reverse(string))"
   ]
  },
  {
   "cell_type": "code",
   "execution_count": 28,
   "metadata": {},
   "outputs": [
    {
     "name": "stdout",
     "output_type": "stream",
     "text": [
      "edcba\n",
      "edcba\n"
     ]
    }
   ],
   "source": [
    "#Apart from these, some built-in functions that can be used to reverse a string are as follows:\n",
    "\n",
    "string1 = 'abcde'\n",
    "string2 = reversed(string1)\n",
    "print(''.join(string2))\n",
    "\n",
    "list1 = list(string1)\n",
    "list1.reverse()\n",
    "print(''.join(list1))\n"
   ]
  },
  {
   "cell_type": "code",
   "execution_count": 2,
   "metadata": {},
   "outputs": [
    {
     "name": "stdout",
     "output_type": "stream",
     "text": [
      "2001\n"
     ]
    }
   ],
   "source": [
    "def reverse_int(num):\n",
    "    rev = 0\n",
    "    while(num!=0):\n",
    "        d = num%10;\n",
    "        rev = rev * 10 + d\n",
    "        num = num//10 \n",
    "        \n",
    "    print(rev)\n",
    "\n",
    "reverse_int(1002)"
   ]
  },
  {
   "cell_type": "code",
   "execution_count": null,
   "metadata": {},
   "outputs": [],
   "source": []
  }
 ],
 "metadata": {
  "kernelspec": {
   "display_name": "Python 3",
   "language": "python",
   "name": "python3"
  },
  "language_info": {
   "codemirror_mode": {
    "name": "ipython",
    "version": 3
   },
   "file_extension": ".py",
   "mimetype": "text/x-python",
   "name": "python",
   "nbconvert_exporter": "python",
   "pygments_lexer": "ipython3",
   "version": "3.8.5"
  }
 },
 "nbformat": 4,
 "nbformat_minor": 4
}
