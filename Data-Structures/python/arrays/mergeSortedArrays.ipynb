{
 "cells": [
  {
   "cell_type": "code",
   "execution_count": 1,
   "metadata": {},
   "outputs": [
    {
     "data": {
      "text/plain": [
       "'function mergeSortedArrays(array1, array2){\\n  const mergedArray = [];\\n  let array1Item = array1[0];\\n  let array2Item = array2[0];\\n  let i = 1;\\n  let j = 1;\\n  \\n  //We should actually move these 2 if statements to line 2 so that we do the checks before we do assignments in line 3 and 4!\\n  if(array1.length === 0) {\\n    return array2;\\n  }\\n  if(array2.length === 0) {\\n    return array1;\\n  }\\n\\n  while (array1Item || array2Item){\\n   if(array2Item === undefined || array1Item < array2Item){\\n     mergedArray.push(array1Item);\\n     array1Item = array1[i];\\n     i++;\\n   }   \\n   else {\\n     mergedArray.push(array2Item);\\n     array2Item = array2[j];\\n     j++;\\n   }\\n  }\\n  return mergedArray;\\n}\\n\\nmergeSortedArrays([0,3,4,31], [3,4,6,30]);'"
      ]
     },
     "execution_count": 1,
     "metadata": {},
     "output_type": "execute_result"
    }
   ],
   "source": [
    "'''function mergeSortedArrays(array1, array2){\n",
    "  const mergedArray = [];\n",
    "  let array1Item = array1[0];\n",
    "  let array2Item = array2[0];\n",
    "  let i = 1;\n",
    "  let j = 1;\n",
    "  \n",
    "  //We should actually move these 2 if statements to line 2 so that we do the checks before we do assignments in line 3 and 4!\n",
    "  if(array1.length === 0) {\n",
    "    return array2;\n",
    "  }\n",
    "  if(array2.length === 0) {\n",
    "    return array1;\n",
    "  }\n",
    "\n",
    "  while (array1Item || array2Item){\n",
    "   if(array2Item === undefined || array1Item < array2Item){\n",
    "     mergedArray.push(array1Item);\n",
    "     array1Item = array1[i];\n",
    "     i++;\n",
    "   }   \n",
    "   else {\n",
    "     mergedArray.push(array2Item);\n",
    "     array2Item = array2[j];\n",
    "     j++;\n",
    "   }\n",
    "  }\n",
    "  return mergedArray;\n",
    "}\n",
    "\n",
    "mergeSortedArrays([0,3,4,31], [3,4,6,30]);'''"
   ]
  },
  {
   "cell_type": "code",
   "execution_count": null,
   "metadata": {},
   "outputs": [],
   "source": []
  },
  {
   "cell_type": "code",
   "execution_count": null,
   "metadata": {},
   "outputs": [],
   "source": []
  }
 ],
 "metadata": {
  "kernelspec": {
   "display_name": "Python 3",
   "language": "python",
   "name": "python3"
  },
  "language_info": {
   "codemirror_mode": {
    "name": "ipython",
    "version": 3
   },
   "file_extension": ".py",
   "mimetype": "text/x-python",
   "name": "python",
   "nbconvert_exporter": "python",
   "pygments_lexer": "ipython3",
   "version": "3.8.5"
  }
 },
 "nbformat": 4,
 "nbformat_minor": 4
}
