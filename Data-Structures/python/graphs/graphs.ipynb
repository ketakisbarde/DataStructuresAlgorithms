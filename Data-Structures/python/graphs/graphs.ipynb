{
 "cells": [
  {
   "cell_type": "markdown",
   "metadata": {},
   "source": [
    "### Graphs are data structures which contain nodes or vertices, which are connected to each other through edges.\n",
    "#### Trees and Linked Lists are basically graphs having nodes and connections between the nodes.\n",
    "- Now, graphs are primarily classified by three properties - Cyclic/Acyclic, Weighted/Unweighted/, Directed/Undirected Graphs\n",
    "- There are many many applications of graphs and many opertions can be performed on them.\n",
    "- <b> A graph can be represented in 3 ways - Adjacency List, Adjacency Matrix, Edge List. </b> \n",
    "- <b> Adjacency list </b> : stores the nodes with which a particular node is connected to in a linked list or array.\n",
    "- All these lists or arrays can be stored in a hash table with the keys being the nodes and the values being their respective lists\n",
    "- <b> Adjcaency matrix </b> : is a nXn matrix where n is the number of nodes. M[i][j] = 1 if nodes i and j are connected otherwise 0\n",
    "- <b>Edge list</b> contains all the pairs of nodes which are connected, and if the graph is weighted, then the weight of each edge as well\n",
    "- Here we will build an undirected graph using an adjacency list.\n",
    "\n"
   ]
  },
  {
   "cell_type": "code",
   "execution_count": 36,
   "metadata": {},
   "outputs": [],
   "source": [
    "class Graph():\n",
    "    \n",
    "    '''Initialize the constructor of the graph defining attribures adjacency list which is empty dict and number of nodes'''\n",
    "    def __init__ (self):\n",
    "        self.no_of_nodes = 0\n",
    "        self.adjacency_list ={}\n",
    "        \n",
    "    def addVertex(self, node):\n",
    "        '''We will add the value of the node as a key in the adjacency list and initialize the value of the key \n",
    "        to be an empty array'''\n",
    "        \n",
    "        #check if key(node value) already exists in the dict\n",
    "        if node not in self.adjacency_list:\n",
    "            self.adjacency_list[node] = []\n",
    "            self.no_of_nodes += 1 \n",
    "            print(\"Vertex added\")\n",
    "            return\n",
    "    \n",
    "    def addEdge(self, node1, node2):\n",
    "        '''This is UNDIRECTED GRAPH: both directions need to be defined'''\n",
    "        #check if edge already exists \n",
    "        if(node2 not in self.adjacency_list[node1]):\n",
    "            self.adjacency_list[node1].append(node2) #Add to the adj_list array of node1, by appending node2 and vice versa\n",
    "            self.adjacency_list[node2].append([node1])\n",
    "            print(\"edge added!\")\n",
    "        else: \n",
    "            print(\"edge already exists!\")\n",
    "            \n",
    "    '''Finally we will implement a custom print method which willl print the nodes and their connections'''\n",
    "    def show_connections(self):\n",
    "        for node in self.adjacency_list:\n",
    "            print(f'{node} -->> {\" \".join(map(str, self.adjacency_list[node]))}')\n",
    "    \n",
    "    def showgraph(self):\n",
    "        for node in self.adjacency_list:\n",
    "            print(node, \">>\", self.adjacency_list[node])"
   ]
  },
  {
   "cell_type": "code",
   "execution_count": 37,
   "metadata": {},
   "outputs": [],
   "source": [
    "mygraph = Graph()"
   ]
  },
  {
   "cell_type": "code",
   "execution_count": 38,
   "metadata": {},
   "outputs": [
    {
     "name": "stdout",
     "output_type": "stream",
     "text": [
      "Vertex added\n",
      "Vertex added\n",
      "Vertex added\n",
      "Vertex added\n",
      "Vertex added\n",
      "Vertex added\n",
      "Vertex added\n"
     ]
    }
   ],
   "source": [
    "mygraph.addVertex(0)\n",
    "mygraph.addVertex(1)\n",
    "mygraph.addVertex(2)\n",
    "mygraph.addVertex(3)\n",
    "mygraph.addVertex(4)\n",
    "mygraph.addVertex(5)\n",
    "mygraph.addVertex(6)"
   ]
  },
  {
   "cell_type": "code",
   "execution_count": 39,
   "metadata": {},
   "outputs": [
    {
     "name": "stdout",
     "output_type": "stream",
     "text": [
      "edge added!\n",
      "edge added!\n",
      "edge added!\n"
     ]
    }
   ],
   "source": [
    "mygraph.addEdge(1,2)\n",
    "mygraph.addEdge(1,3)\n",
    "mygraph.addEdge(2,3)"
   ]
  },
  {
   "cell_type": "code",
   "execution_count": 40,
   "metadata": {},
   "outputs": [
    {
     "name": "stdout",
     "output_type": "stream",
     "text": [
      "0 -->> \n",
      "1 -->> 2 3\n",
      "2 -->> [1] 3\n",
      "3 -->> [1] [2]\n",
      "4 -->> \n",
      "5 -->> \n",
      "6 -->> \n"
     ]
    }
   ],
   "source": [
    "mygraph.show_connections()"
   ]
  },
  {
   "cell_type": "code",
   "execution_count": 41,
   "metadata": {},
   "outputs": [
    {
     "name": "stdout",
     "output_type": "stream",
     "text": [
      "0 >> []\n",
      "1 >> [2, 3]\n",
      "2 >> [[1], 3]\n",
      "3 >> [[1], [2]]\n",
      "4 >> []\n",
      "5 >> []\n",
      "6 >> []\n"
     ]
    }
   ],
   "source": [
    "mygraph.showgraph()"
   ]
  },
  {
   "cell_type": "code",
   "execution_count": null,
   "metadata": {},
   "outputs": [],
   "source": []
  },
  {
   "cell_type": "code",
   "execution_count": null,
   "metadata": {},
   "outputs": [],
   "source": []
  }
 ],
 "metadata": {
  "kernelspec": {
   "display_name": "Python 3",
   "language": "python",
   "name": "python3"
  },
  "language_info": {
   "codemirror_mode": {
    "name": "ipython",
    "version": 3
   },
   "file_extension": ".py",
   "mimetype": "text/x-python",
   "name": "python",
   "nbconvert_exporter": "python",
   "pygments_lexer": "ipython3",
   "version": "3.8.5"
  }
 },
 "nbformat": 4,
 "nbformat_minor": 4
}
