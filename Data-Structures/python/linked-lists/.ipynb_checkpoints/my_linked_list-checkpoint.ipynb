{
 "cells": [
  {
   "cell_type": "markdown",
   "metadata": {},
   "source": [
    "<h3> <u> Linked Lists <u> </h3>"
   ]
  },
  {
   "cell_type": "markdown",
   "metadata": {},
   "source": [
    "#### Linked lists are, as the name suggests, a list which is linked. It's a linear data structure\n",
    "#### It consists of nodes which contain data and a pointer to the next node in the list.\n",
    "#### The list is connected with the help of these pointers.\n",
    "#### These nodes are scattered in memory, quite like the buckets in a hash table.\n",
    "#### The node where the list starts is called the head of the list and the node where it ends, or last node, is called the tail of the list.\n",
    "#### The average time complexity of some operations invloving linked lists are as follows:\n",
    "- Look-up : O(n)\n",
    "- Insert : O(n)\n",
    "- Delete : O(n)\n",
    "- Append : O(1)\n",
    "- Prepend : O(1)\n",
    "##### Python doesn't have a built-in implementation of linked lists, we have to build it on our own So, here we go."
   ]
  },
  {
   "cell_type": "code",
   "execution_count": 390,
   "metadata": {},
   "outputs": [],
   "source": [
    " #define a class Node which will act as a blueprint for each of our nodes\n",
    "class Node:\n",
    "    def __init__(self, data): #when instantiating, pass value in \"data\" that node shall hold\n",
    "        self.data = data\n",
    "        self.next = None\n",
    "        \n",
    "class LinkedList:\n",
    "    '''Next we define the class LinkedList which will have a head pointer to point to the start of the list and \n",
    "    a tail pointer to point to the end of the list. \n",
    "    An optional value of length can also be stored to keep track of the length of the linked list.'''\n",
    "    \n",
    "    '''When the list is created , it is empty and there is no node to point to. So head will point to None \n",
    "    at the time of creation of linked list and since the list is empty at the time of creation, \n",
    "    we will point the tail to whatever the head is pointing to, i.e., None'''\n",
    "    \n",
    "    def __init__(self):\n",
    "        self.head = None\n",
    "        self.tail = self.head\n",
    "        self.length = 0\n",
    "        \n",
    "    '''Next, we have append method which adds value to the end of linked list.\n",
    "    Pass the value to be added, create a new instance of Node class to create a new node and set this node's data = value\n",
    "    '''\n",
    "    \n",
    "    def append(self, value):\n",
    "        newNode = Node(value) #new node is created with value given and address dangling at None\n",
    "        '''remember we are keeping track of head, AND TAIL and length. No need to traverse till end of the list'''\n",
    "        if(self.head == None):\n",
    "            #Means its the first node\n",
    "            self.head = newNode\n",
    "            self.length +=1\n",
    "            self.tail = newNode\n",
    "        else:\n",
    "            #Not the first, add at the end of the list after tail and update tail to this newNode\n",
    "            self.tail.next = newNode\n",
    "            self.tail = newNode\n",
    "            self.length +=1 \n",
    "            \n",
    "            \n",
    "    '''Next, prepend method: add newNode at the begining of the list. Input value of the node, create new instance of \n",
    "    Node class. '''\n",
    "    \n",
    "    def prepend(self, value):\n",
    "        newNode = Node(value) #create a dangling node with given value\n",
    "        if(self.head == None):\n",
    "            print(\"Issa first node. nothing to prepend so node is added as the first node\")\n",
    "            self.head = newNode\n",
    "            self.tail = newNode\n",
    "            self.length+=1\n",
    "                \n",
    "        else:\n",
    "            newNode.next = self.head\n",
    "            self.head = newNode\n",
    "            self.length+=1\n",
    "            \n",
    "    '''Now, let's implement the display function to print the values in the nodes of the linked list. \n",
    "       We will check if the list is empty or not. If it is, we will printout \"Empty\".Else, we will create a new node \n",
    "       pointing to the head. Then we will loop until we reach the node who's \"next\" becomes None aka. our tail.\n",
    "       Inside the loop we will print the data of the current node and then make the current node  = current.next. \n",
    "       Since this requires us to traverse the entire lenth og the linked list, this is an O(n) operation.'''\n",
    "    \n",
    "    def display(self):\n",
    "        currentNode = self.head\n",
    "        if currentNode == None:\n",
    "            #means list is empty\n",
    "            print(\"Empty list\")\n",
    "        elif(currentNode.next == None):\n",
    "            #this is the only element on the list\n",
    "            print(currentNode.data)\n",
    "        else:\n",
    "            print(\"Need to traverse: O(n)\")\n",
    "            while(currentNode != None): #NOTE***here, dont do xurrent.next == None while traversing as last element wont be printed\n",
    "                print(currentNode.data)\n",
    "                currentNode = currentNode.next\n",
    "                \n",
    "    '''Next is insert method: insert a value at an index. Both index,value are provided as parameters\n",
    "    #Next comes the insert operation, where we insert a data at a specified position\n",
    "    #If the position is greater than the length of the list, we simply follow the procedure of the append method where we add the node to the end of the list\n",
    "    #If the position is equal to 0, we follow the prepend procedure, where we append the node at the head\n",
    "    #If the postition is somewhere in between, then we create a temporary node which traverses the list upto the previous position of the position we want to enter the new node\n",
    "    #Now the 'next' of the temporary node is pointing to the next node in the list, wehre we want to insert our new node\n",
    "    #So first we link the new node and the node at the desired position by making the 'next' of the new node equal to the 'next' of the temporary node\n",
    "    #The temporary node and the new node point to the same position now, the position we want to insert the new node\n",
    "    #So we update the 'next' of the temporary node to point to the new node.\n",
    "    #This way, our new node occupies the position it intended to and the node which was originally there, gets pushed to the next position\n",
    "    #Since this requires traversal of the list, it is an O(n) operation.\n",
    "    '''\n",
    "    \n",
    "    def insert(self, index, value):\n",
    "        '''check parameters always'''\n",
    "        \n",
    "        if(index > self.length):\n",
    "            print(\"position not available. add at the end instead\")\n",
    "            self.append(value)\n",
    "            \n",
    "        elif (index ==0):\n",
    "            '''same as prepending, just call prepend method'''\n",
    "            self.prepend(value)\n",
    "            \n",
    "        else:\n",
    "            print(\"Value inserted at\", index, \" O(n)\")\n",
    "            tempNode = Node(value) #create a dangling temp node to be inserted with given value.\n",
    "            currentNode = self.head\n",
    "            counter = 0\n",
    "            \n",
    "            while(counter < index -1):\n",
    "                currentNode = currentNode.next\n",
    "                counter+=1\n",
    "            #if index is 3, current after the while loop is at second position\n",
    "            #print(currentNode.data)\n",
    "            tempNode.next = currentNode.next\n",
    "            currentNode.next = tempNode\n",
    "            self.length+=1\n",
    "            \n",
    "    '''Next is delete mehotd: can be by index, by value. 1st lets do by index'''\n",
    "    \n",
    "    def delete_byindex(self, index):\n",
    "        #input the index you wish to delete and iterate to that node position\n",
    "        if self.head == None:\n",
    "            print(\"Nothing to detele. List is empty\")\n",
    "            return \n",
    "        if (index == 0): #remove first element\n",
    "            self.head = self.head.next\n",
    "            #can be only one element \n",
    "            if self.head == None or self.head.next == None:\n",
    "                self.tail = self.head\n",
    "            self.length -= 1\n",
    "            return\n",
    "        \n",
    "        if index>= self.length:\n",
    "            index = self.length-1\n",
    "            \n",
    "        currentNode = self.head\n",
    "        count = 0\n",
    "        while(count < index-1):\n",
    "            currentNode=currentNode.next\n",
    "            count +=1\n",
    "        \n",
    "        temp = currentNode\n",
    "        currentNode=currentNode.next\n",
    "              \n",
    "        temp.next = currentNode.next\n",
    "        currentNode.next = None\n",
    "        self.length -= 1\n",
    "        if currentNode.next == None:\n",
    "            self.tail = currentNode\n",
    "        return\n",
    "    \n",
    "         \n",
    "    '''Next comes the delete_by_value method where the user can enter a value and if the value is found in the list, \n",
    "    it will be deleted.(If the value is found multiple times, only the first occurence of thevalue will be deleted.)\n",
    "    First we check if the list is empty. If yes, we print appropriate message. If not, then we create a temporary node.\n",
    "    Then we check if the value of the head is equal to the value we want deleted.\n",
    "    If yes, we make the head equal to the node pointed by the 'next' of the head. Then we check if there are only one or zero nodes in the list\n",
    "    If yes, then we update the tail to be equal to the head.'''\n",
    "        \n",
    "    def delete_byvalue(self, value):\n",
    "        #search value and delete       \n",
    "        if(self.head == None):\n",
    "            print(\"Empty list. Nothing to delete!\")\n",
    "        \n",
    "        currentNode = self.head\n",
    "        \n",
    "        if(self.head.data == value):\n",
    "            '''means we have to delete first value'''\n",
    "            self.head = self.head.next\n",
    "            '''but what if there was already one node = head and we deleted and now head is None or\n",
    "            moving head one step ahead, we find head.next is null so we need to take care if tail'''\n",
    "            if(self.head == None or self.head.next==None):\n",
    "                self.tail = self.head\n",
    "            self.length -= 1\n",
    "            return\n",
    "        \n",
    "        while(currentNode.next.data != value):\n",
    "            currentNode = currentNode.next\n",
    "           \n",
    "            \n",
    "        tempNode = currentNode.next \n",
    "        print(\"Prev ref node:\", currentNode.data, \"To delete:\", tempNode.data)\n",
    "        currentNode.next = tempNode.next\n",
    "        if(tempNode.next ==None):\n",
    "            self.tail = tempNode\n",
    "        tempNode == None\n",
    "        self.length-=1\n",
    "        \n",
    "        #what if value is not present only!"
   ]
  },
  {
   "cell_type": "code",
   "execution_count": 391,
   "metadata": {},
   "outputs": [],
   "source": [
    "mylinkedlist = LinkedList()"
   ]
  },
  {
   "cell_type": "code",
   "execution_count": 392,
   "metadata": {},
   "outputs": [
    {
     "name": "stdout",
     "output_type": "stream",
     "text": [
      "Empty list\n"
     ]
    }
   ],
   "source": [
    "mylinkedlist.display()"
   ]
  },
  {
   "cell_type": "code",
   "execution_count": 393,
   "metadata": {},
   "outputs": [
    {
     "name": "stdout",
     "output_type": "stream",
     "text": [
      "Issa first node. nothing to prepend so node is added as the first node\n"
     ]
    }
   ],
   "source": [
    "mylinkedlist.prepend(42)"
   ]
  },
  {
   "cell_type": "code",
   "execution_count": 394,
   "metadata": {},
   "outputs": [
    {
     "name": "stdout",
     "output_type": "stream",
     "text": [
      "42\n"
     ]
    }
   ],
   "source": [
    "mylinkedlist.display()"
   ]
  },
  {
   "cell_type": "code",
   "execution_count": 395,
   "metadata": {},
   "outputs": [],
   "source": [
    "mylinkedlist.append(11)\n",
    "mylinkedlist.append(5)\n",
    "mylinkedlist.append(17)\n",
    "mylinkedlist.append(26)\n",
    "mylinkedlist.append(\"yahoo\")"
   ]
  },
  {
   "cell_type": "code",
   "execution_count": 396,
   "metadata": {},
   "outputs": [
    {
     "name": "stdout",
     "output_type": "stream",
     "text": [
      "Value inserted at 4  O(n)\n"
     ]
    }
   ],
   "source": [
    "mylinkedlist.insert(4, \"yowza\")"
   ]
  },
  {
   "cell_type": "code",
   "execution_count": 397,
   "metadata": {},
   "outputs": [
    {
     "name": "stdout",
     "output_type": "stream",
     "text": [
      "Need to traverse: O(n)\n",
      "42\n",
      "11\n",
      "5\n",
      "17\n",
      "yowza\n",
      "26\n",
      "yahoo\n"
     ]
    }
   ],
   "source": [
    "mylinkedlist.display()"
   ]
  },
  {
   "cell_type": "code",
   "execution_count": 398,
   "metadata": {},
   "outputs": [],
   "source": [
    "mylinkedlist.delete_byindex(5)"
   ]
  },
  {
   "cell_type": "code",
   "execution_count": 399,
   "metadata": {},
   "outputs": [
    {
     "data": {
      "text/plain": [
       "6"
      ]
     },
     "execution_count": 399,
     "metadata": {},
     "output_type": "execute_result"
    }
   ],
   "source": [
    "mylinkedlist.length"
   ]
  },
  {
   "cell_type": "code",
   "execution_count": 402,
   "metadata": {},
   "outputs": [
    {
     "ename": "AttributeError",
     "evalue": "'NoneType' object has no attribute 'data'",
     "output_type": "error",
     "traceback": [
      "\u001b[1;31m---------------------------------------------------------------------------\u001b[0m",
      "\u001b[1;31mAttributeError\u001b[0m                            Traceback (most recent call last)",
      "\u001b[1;32m<ipython-input-402-f4868fb6ce45>\u001b[0m in \u001b[0;36m<module>\u001b[1;34m\u001b[0m\n\u001b[1;32m----> 1\u001b[1;33m \u001b[0mmylinkedlist\u001b[0m\u001b[1;33m.\u001b[0m\u001b[0mdelete_byvalue\u001b[0m\u001b[1;33m(\u001b[0m\u001b[1;36m90\u001b[0m\u001b[1;33m)\u001b[0m\u001b[1;33m\u001b[0m\u001b[1;33m\u001b[0m\u001b[0m\n\u001b[0m",
      "\u001b[1;32m<ipython-input-390-271a4d3520a3>\u001b[0m in \u001b[0;36mdelete_byvalue\u001b[1;34m(self, value)\u001b[0m\n\u001b[0;32m    172\u001b[0m            \u001b[1;32mreturn\u001b[0m\u001b[1;33m\u001b[0m\u001b[1;33m\u001b[0m\u001b[0m\n\u001b[0;32m    173\u001b[0m \u001b[1;33m\u001b[0m\u001b[0m\n\u001b[1;32m--> 174\u001b[1;33m        \u001b[1;32mwhile\u001b[0m\u001b[1;33m(\u001b[0m\u001b[0mcurrentNode\u001b[0m\u001b[1;33m.\u001b[0m\u001b[0mnext\u001b[0m\u001b[1;33m.\u001b[0m\u001b[0mdata\u001b[0m \u001b[1;33m!=\u001b[0m \u001b[0mvalue\u001b[0m\u001b[1;33m)\u001b[0m\u001b[1;33m:\u001b[0m\u001b[1;33m\u001b[0m\u001b[1;33m\u001b[0m\u001b[0m\n\u001b[0m\u001b[0;32m    175\u001b[0m            \u001b[0mcurrentNode\u001b[0m \u001b[1;33m=\u001b[0m \u001b[0mcurrentNode\u001b[0m\u001b[1;33m.\u001b[0m\u001b[0mnext\u001b[0m\u001b[1;33m\u001b[0m\u001b[1;33m\u001b[0m\u001b[0m\n\u001b[0;32m    176\u001b[0m            \u001b[1;32mif\u001b[0m \u001b[0mcurrentNode\u001b[0m \u001b[1;33m==\u001b[0m \u001b[0mself\u001b[0m\u001b[1;33m.\u001b[0m\u001b[0mtail\u001b[0m\u001b[1;33m:\u001b[0m\u001b[1;33m\u001b[0m\u001b[1;33m\u001b[0m\u001b[0m\n",
      "\u001b[1;31mAttributeError\u001b[0m: 'NoneType' object has no attribute 'data'"
     ]
    }
   ],
   "source": [
    "mylinkedlist.delete_byvalue(90)"
   ]
  },
  {
   "cell_type": "code",
   "execution_count": 401,
   "metadata": {},
   "outputs": [
    {
     "name": "stdout",
     "output_type": "stream",
     "text": [
      "Need to traverse: O(n)\n",
      "42\n",
      "11\n",
      "5\n",
      "yowza\n",
      "yahoo\n"
     ]
    }
   ],
   "source": [
    "mylinkedlist.display()"
   ]
  },
  {
   "cell_type": "code",
   "execution_count": 389,
   "metadata": {},
   "outputs": [
    {
     "name": "stdout",
     "output_type": "stream",
     "text": [
      "Empty list\n",
      "Need to traverse: O(n)\n",
      "5\n",
      "2\n",
      "9\n",
      "Need to traverse: O(n)\n",
      "4\n",
      "5\n",
      "2\n",
      "9\n",
      "Value inserted at 2  O(n)\n",
      "position not available. add at the end instead\n",
      "Need to traverse: O(n)\n",
      "0\n",
      "4\n",
      "5\n",
      "7\n",
      "2\n",
      "9\n",
      "honey\n"
     ]
    }
   ],
   "source": [
    "#We will import this file while reversing a linked list program. So we must make sure that it runs only\n",
    "#when it is the main file being run and not also when it is being imported in some other file.\n",
    "\n",
    "if __name__ == '__main__':\n",
    "\n",
    "    my_linked_list = LinkedList()\n",
    "    my_linked_list.display()\n",
    "    #shows empty\n",
    "\n",
    "    my_linked_list.append(5)\n",
    "    my_linked_list.append(2)\n",
    "    my_linked_list.append(9)\n",
    "    my_linked_list.display()\n",
    "    #shows 5,2,9\n",
    "    \n",
    "    my_linked_list.prepend(4)\n",
    "    my_linked_list.display()\n",
    "    #shows 4,5,2,9\n",
    "    \n",
    "    my_linked_list.insert(2,7)\n",
    "    my_linked_list.insert(0,0)\n",
    "    my_linked_list.insert(10000,\"honey\")\n",
    "    my_linked_list.display()\n",
    "    #4,5,7,2,9\n",
    "    \n",
    "    "
   ]
  },
  {
   "cell_type": "code",
   "execution_count": null,
   "metadata": {},
   "outputs": [],
   "source": []
  }
 ],
 "metadata": {
  "kernelspec": {
   "display_name": "Python 3",
   "language": "python",
   "name": "python3"
  },
  "language_info": {
   "codemirror_mode": {
    "name": "ipython",
    "version": 3
   },
   "file_extension": ".py",
   "mimetype": "text/x-python",
   "name": "python",
   "nbconvert_exporter": "python",
   "pygments_lexer": "ipython3",
   "version": "3.8.5"
  }
 },
 "nbformat": 4,
 "nbformat_minor": 4
}
