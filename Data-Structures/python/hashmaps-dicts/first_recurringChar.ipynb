{
 "cells": [
  {
   "cell_type": "code",
   "execution_count": 2,
   "metadata": {},
   "outputs": [],
   "source": [
    "#Google Question\n",
    "#Given an array, return the first recurring character\n",
    "#Example1 : array = [2,1,4,2,6,5,1,4]\n",
    "#It should return 2\n",
    "#Example 2 : array = [2,6,4,6,1,3,8,1,2]\n",
    "#It should return 6\n",
    "\n",
    "\n",
    "#What happens when input is [2,5,5,2,3,4] -- rerturn 2 ki 5?\n",
    "#naive appraoch returns 2 but hash ones returns 5 \n",
    "\n",
    "\n",
    "#First thing that comes to mind is we can create a dictionary and keep storing each element of the array in the dictionary\n",
    "#as we go along the array. But before adding the element to the dictionary, we'll check if the element is already present in the dictionary\n",
    "#If yes, then we simply return the element and break out\n",
    "#If not, then we add the element to the dictionary and move forward"
   ]
  },
  {
   "cell_type": "code",
   "execution_count": 13,
   "metadata": {},
   "outputs": [
    {
     "data": {
      "text/plain": [
       "5"
      ]
     },
     "execution_count": 13,
     "metadata": {},
     "output_type": "execute_result"
    }
   ],
   "source": [
    "def simple_hash(a):\n",
    "    \n",
    "    hmap = {}\n",
    "    for i in range(len(a)):\n",
    "        if a[i] in hmap:\n",
    "            return a[i]\n",
    "        else:\n",
    "            hmap[a[i]] = i\n",
    "    print(\"No such element\")\n",
    "    return None\n",
    "        \n",
    "simple_hash([2,5,5,2,3,4])  \n",
    "#The time complexity is O(n) as we are looping through the array only once\n",
    "#And the search which we are doing in the dictionary, is of O(1) time, since it is basically an implementation of hash table."
   ]
  },
  {
   "cell_type": "code",
   "execution_count": 14,
   "metadata": {},
   "outputs": [
    {
     "data": {
      "text/plain": [
       "1"
      ]
     },
     "execution_count": 14,
     "metadata": {},
     "output_type": "execute_result"
    }
   ],
   "source": [
    "simple_hash([2,1,3,1,0,4])"
   ]
  },
  {
   "cell_type": "code",
   "execution_count": 15,
   "metadata": {},
   "outputs": [
    {
     "name": "stdout",
     "output_type": "stream",
     "text": [
      "No such element\n"
     ]
    }
   ],
   "source": [
    "simple_hash([2,1,3])"
   ]
  },
  {
   "cell_type": "code",
   "execution_count": 18,
   "metadata": {},
   "outputs": [
    {
     "name": "stdout",
     "output_type": "stream",
     "text": [
      "2\n"
     ]
    }
   ],
   "source": [
    "def naive_frc(array):\n",
    "    l = len(array)\n",
    "    i= 0\n",
    "    frc = None\n",
    "    while(i<l):\n",
    "        j = i+1\n",
    "        while(j<l):\n",
    "            if array[i] == array[j]:\n",
    "                l = j\n",
    "                frc = array[j]\n",
    "                continue\n",
    "            else:\n",
    "                j+=1\n",
    "        i += 1\n",
    "    return frc\n",
    "array = [2,1,4,2,1]\n",
    "print(naive_frc(array))\n",
    "\n",
    "#The outer while loop runs from the first index of the array to the index of the first recurring character\n",
    "#For example, in the given array here, [2,1,4,1,5,2,6], in the first iteration the loop runs till index 5, where it encounters 2,\n",
    "#The first recurring character with respect to the element at index i, which in the first iteration is 2\n",
    "#After finding the first recurring character of the element at the ith index, it runs from the i+1th index to l-1th index,\n",
    "#where l is the index of the recurring character, or the last element of the array if no recurring character is found\n",
    "#This way, every time a recurring character is found in the array before the occurence of the recurring character found by the previous iteration,\n",
    "#It gets updated in the variable frc and the indices are adjusted so as to run the loop only till the index of the recurring character found in the previous iteration\n",
    "#Because if no recurring character is found before that, it implies the previous recurring character is the first one!\n",
    "#Time Complexity is O(n^2) but space complexity is O(1), which is better than the earlier solution\n"
   ]
  },
  {
   "cell_type": "code",
   "execution_count": null,
   "metadata": {},
   "outputs": [],
   "source": []
  }
 ],
 "metadata": {
  "kernelspec": {
   "display_name": "Python 3",
   "language": "python",
   "name": "python3"
  },
  "language_info": {
   "codemirror_mode": {
    "name": "ipython",
    "version": 3
   },
   "file_extension": ".py",
   "mimetype": "text/x-python",
   "name": "python",
   "nbconvert_exporter": "python",
   "pygments_lexer": "ipython3",
   "version": "3.8.5"
  }
 },
 "nbformat": 4,
 "nbformat_minor": 4
}
