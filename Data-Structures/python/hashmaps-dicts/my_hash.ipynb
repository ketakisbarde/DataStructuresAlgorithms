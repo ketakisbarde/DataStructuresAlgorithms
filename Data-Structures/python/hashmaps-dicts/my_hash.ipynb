{
 "cells": [
  {
   "cell_type": "code",
   "execution_count": 219,
   "metadata": {},
   "outputs": [],
   "source": [
    "class hash_table:\n",
    "    \n",
    "    def __init__(self, size):\n",
    "        self.size = size #initiailize passed 'size' to class object as size of hash (no. of buckets)\n",
    "        self.data = [None]* size #Initialize an array of sixe \"size\" with None\n",
    "    \n",
    "    def __str__(self):\n",
    "        return str(self.__dict__) #Like array implementation, this method is used to print the attributes of the class object in a dictionary format\n",
    "    \n",
    "    def _hash(self, key):\n",
    "        '''custom hash func which takes key and computes a memory address for given key to store data'''\n",
    "        h = 0\n",
    "        for i in range(0, len(key)):\n",
    "            h = (h + ord(key[i])*i) % self.size #ord(key[i]) gives the unicode code point of the character key[i]\n",
    "        return h #this is hash of key to store data \n",
    "    \n",
    "    def _set(self, key, value): #Function to insert a new key, value pair\n",
    "        h = self._hash(key) #Hash value of the key is calculated using the _hash function\n",
    "        if not self.data[h]: #If the 'h' position of the data array is empty, we insert the key, value pair as a list\n",
    "            self.data[h] = [[key,value]] #dont append as array doesn;t exist, insert array and then inside insert [key,val]\n",
    "        else: #If the 'hash' position is not empty, implying a collision, we simply append the list of key,value pair to the lists already present\n",
    "            self.data[h].append([key, value])\n",
    "        print(self.data)\n",
    "        \n",
    "    \n",
    "    def get(self, key):\n",
    "        '''find hash pos for key and return correspnding value. check if hash pos exists[loop through nested collisons]'''\n",
    "        h = self._hash(key)\n",
    "        if(not self.data[h]): #if data at pos \"h\" doesn't exist, return nonetype\n",
    "            print(\"Key absent\")\n",
    "            return None;\n",
    "        else:\n",
    "            '''if data present at hash \"h\" position, iterate through that list'''\n",
    "            for i in range(len(self.data[h])): #as there can be multiple items\n",
    "                if(self.data[h][i][0] == key): #note, at data[h], theres list at i,j\n",
    "                    print(self.data[h][i][1])\n",
    "                    \n",
    "    def keys(self):\n",
    "        '''display all keys present, have to iterate through the entire hash to check and collect leys in anleys array, O(n)'''\n",
    "        keys_array = []\n",
    "        for i in range(self.size):\n",
    "            if(self.data[i]): #if data exists at i, iterate and assimilate keys\n",
    "                if len(self.data[i]) > 1:\n",
    "                    for j in range(len(self.data[i])): #Looping over all the lists(key,value pairs) in the current bucket\n",
    "                        keys_array.append(self.data[i][j][0]) #Adding the key of each list to the keys_array\n",
    "                else:\n",
    "                    keys_array.append(self.data[i][0][0])\n",
    "        return keys_array\n",
    "    \n",
    "    def values(self): #Function to return all the values, with exactly the same logic as the keys function\n",
    "        values_array = []\n",
    "        for i in range(self.size):\n",
    "            if self.data[i]:\n",
    "                for j in range(len(self.data[i])):\n",
    "                    values_array.append(self.data[i][j][1])  #Only difference from the keys function is instead of appending the first element, we are appending the last element of each list\n",
    "        return values_array\n",
    "     \n",
    "    def delete(self, key):\n",
    "        \"\"\"iterate through entire hash and find key. once found, delete by setting value to None\"\"\"\n",
    "        h = self._hash(key)\n",
    "        if(not self.data[h]): #if data at pos \"h\" doesn't exist, return nonetype\n",
    "            print(\"Key absent\")\n",
    "            return None;\n",
    "        else:\n",
    "            for i in range(len(self.data[h])): #as there can be multiple items\n",
    "                if(self.data[h][i][0] == key): #note, at data[h], theres list at i,j\n",
    "                    del(self.data[h][i])\n",
    "                    print(\"value deleted\\n\", self.data)\n",
    "        \n",
    "        \n",
    "        \n",
    "        \n",
    "        "
   ]
  },
  {
   "cell_type": "code",
   "execution_count": 221,
   "metadata": {},
   "outputs": [
    {
     "name": "stdout",
     "output_type": "stream",
     "text": [
      "{'size': 10, 'data': [None, None, None, None, None, None, None, None, None, None]}\n"
     ]
    }
   ],
   "source": [
    "myhash = hash_table(10)\n",
    "print(myhash)"
   ]
  },
  {
   "cell_type": "code",
   "execution_count": 222,
   "metadata": {},
   "outputs": [
    {
     "name": "stdout",
     "output_type": "stream",
     "text": [
      "[None, None, None, None, None, None, None, None, None, [['apples', 55]]]\n",
      "[None, None, None, [['bananas', '1lb']], None, None, None, None, None, [['apples', 55]]]\n",
      "[None, None, [['milk', '1 gal']], [['bananas', '1lb']], None, None, None, None, None, [['apples', 55]]]\n",
      "[[['cereal', 2]], None, [['milk', '1 gal']], [['bananas', '1lb']], None, None, None, None, None, [['apples', 55]]]\n",
      "[[['cereal', 2]], [['orange juice', 1]], [['milk', '1 gal']], [['bananas', '1lb']], None, None, None, None, None, [['apples', 55]]]\n"
     ]
    }
   ],
   "source": [
    "myhash._set('apples', 55)\n",
    "myhash._set('bananas', \"1lb\")\n",
    "myhash._set(\"milk\", \"1 gal\")\n",
    "myhash._set(\"cereal\", 2)\n",
    "myhash._set(\"orange juice\", 1)"
   ]
  },
  {
   "cell_type": "code",
   "execution_count": 223,
   "metadata": {},
   "outputs": [
    {
     "name": "stdout",
     "output_type": "stream",
     "text": [
      "Key absent\n"
     ]
    }
   ],
   "source": [
    "myhash.get('bombay')"
   ]
  },
  {
   "cell_type": "code",
   "execution_count": 224,
   "metadata": {},
   "outputs": [
    {
     "name": "stdout",
     "output_type": "stream",
     "text": [
      "1 gal\n"
     ]
    }
   ],
   "source": [
    "myhash.get(\"milk\")"
   ]
  },
  {
   "cell_type": "code",
   "execution_count": 225,
   "metadata": {},
   "outputs": [
    {
     "data": {
      "text/plain": [
       "['cereal', 'orange juice', 'milk', 'bananas', 'apples']"
      ]
     },
     "execution_count": 225,
     "metadata": {},
     "output_type": "execute_result"
    }
   ],
   "source": [
    "myhash.keys()"
   ]
  },
  {
   "cell_type": "code",
   "execution_count": 226,
   "metadata": {},
   "outputs": [
    {
     "data": {
      "text/plain": [
       "[2, 1, '1 gal', '1lb', 55]"
      ]
     },
     "execution_count": 226,
     "metadata": {},
     "output_type": "execute_result"
    }
   ],
   "source": [
    "myhash.values()"
   ]
  },
  {
   "cell_type": "code",
   "execution_count": 227,
   "metadata": {},
   "outputs": [
    {
     "name": "stdout",
     "output_type": "stream",
     "text": [
      "value deleted\n",
      " [[['cereal', 2]], [], [['milk', '1 gal']], [['bananas', '1lb']], None, None, None, None, None, [['apples', 55]]]\n"
     ]
    }
   ],
   "source": [
    "myhash.delete(\"orange juice\")"
   ]
  },
  {
   "cell_type": "code",
   "execution_count": 228,
   "metadata": {},
   "outputs": [
    {
     "name": "stdout",
     "output_type": "stream",
     "text": [
      "value deleted\n",
      " [[['cereal', 2]], [], [], [['bananas', '1lb']], None, None, None, None, None, [['apples', 55]]]\n"
     ]
    }
   ],
   "source": [
    "myhash.delete(\"milk\")"
   ]
  },
  {
   "cell_type": "markdown",
   "metadata": {},
   "source": [
    "### Now although there are some for loops running in the class hash,the time complexity is not O(n).\n",
    "#### This is because n stands for the size of the input, which corresponds to number of key,value pairs in the table\n",
    "#### But the for loop in the _hash function runs only for the length of the key, which would be insignificantly small in comparison to the number of entries in general.\n",
    "#### Also, the for loop in the get function runs for the length of the collisioned array, which in most cases, won't be too long\n",
    "#### Atleast nowhere near to the number of total entries, hence the time complexity remains way less than O(n), even less than O(log n) in most cases\n",
    "#### The keys and values methods are slightly worse than O(n) though, as we have to loop over the entire size of the table once, and loop over all the lists in the buckets which have collision"
   ]
  },
  {
   "cell_type": "code",
   "execution_count": null,
   "metadata": {},
   "outputs": [],
   "source": []
  }
 ],
 "metadata": {
  "kernelspec": {
   "display_name": "Python 3",
   "language": "python",
   "name": "python3"
  },
  "language_info": {
   "codemirror_mode": {
    "name": "ipython",
    "version": 3
   },
   "file_extension": ".py",
   "mimetype": "text/x-python",
   "name": "python",
   "nbconvert_exporter": "python",
   "pygments_lexer": "ipython3",
   "version": "3.8.5"
  }
 },
 "nbformat": 4,
 "nbformat_minor": 4
}
