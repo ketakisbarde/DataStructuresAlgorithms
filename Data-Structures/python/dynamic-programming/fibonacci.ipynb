{
 "cells": [
  {
   "cell_type": "code",
   "execution_count": 1,
   "metadata": {},
   "outputs": [],
   "source": [
    "#Now we will implement our old Fibonacci program using Dynamic Programming\n",
    "#Fibonacci Sequence : 0 1 1 2 3 5 8 13 21 35 55 89 144 233 . . .\n",
    "\n",
    "import time\n",
    "\n",
    "def fibonacci(n):\n",
    "    if n<2:\n",
    "        return n\n",
    "    else:\n",
    "        return fibonacci(n-1) + fibonacci(n-2)"
   ]
  },
  {
   "cell_type": "code",
   "execution_count": 2,
   "metadata": {},
   "outputs": [],
   "source": [
    "cache = {}\n",
    "def dynamic_fibonacci(n):\n",
    "    if n in cache:\n",
    "        return cache[n]\n",
    "    else:\n",
    "        if n < 2:\n",
    "            return n\n",
    "        else:\n",
    "            cache[n] = dynamic_fibonacci(n-1) + dynamic_fibonacci(n-2)\n",
    "            return cache[n]\n",
    "\n"
   ]
  },
  {
   "cell_type": "code",
   "execution_count": 3,
   "metadata": {},
   "outputs": [
    {
     "name": "stdout",
     "output_type": "stream",
     "text": [
      "832040\n",
      "0.26627564430236816\n",
      "832040\n",
      "0.0\n"
     ]
    }
   ],
   "source": [
    "t1 = time.time()\n",
    "print(fibonacci(30))\n",
    "t2 = time.time()\n",
    "print(t2-t1)\n",
    "#832040\n",
    "#0.39888763427734375\n",
    "\n",
    "t1 = time.time()\n",
    "print(dynamic_fibonacci(30))\n",
    "t2 = time.time()\n",
    "print(t2-t1)\n",
    "#832040\n",
    "#0.0"
   ]
  },
  {
   "cell_type": "code",
   "execution_count": null,
   "metadata": {},
   "outputs": [],
   "source": [
    " "
   ]
  }
 ],
 "metadata": {
  "kernelspec": {
   "display_name": "Python 3",
   "language": "python",
   "name": "python3"
  },
  "language_info": {
   "codemirror_mode": {
    "name": "ipython",
    "version": 3
   },
   "file_extension": ".py",
   "mimetype": "text/x-python",
   "name": "python",
   "nbconvert_exporter": "python",
   "pygments_lexer": "ipython3",
   "version": "3.8.5"
  }
 },
 "nbformat": 4,
 "nbformat_minor": 4
}
